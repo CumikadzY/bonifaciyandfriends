{
 "cells": [
  {
   "cell_type": "code",
   "execution_count": 1,
   "id": "3b518a21-93ab-4064-8c41-cb1854af914e",
   "metadata": {
    "pycharm": {
     "name": "#%%\n"
    }
   },
   "outputs": [],
   "source": [
    "import talib\n",
    "import threading\n",
    "from binance.client import Client\n",
    "from binance import ThreadedWebsocketManager\n",
    "from binance.enums import *\n",
    "import pandas as pd\n",
    "import time\n",
    "import numpy as np\n",
    "from enum import Enum\n",
    "from datetime import datetime\n",
    "import plotly.graph_objects as go\n",
    "from IPython.display import clear_output\n",
    "\n",
    "\n",
    "######################\n",
    "\n",
    "class OrderTypes(Enum):\n",
    "    market = 'MARKET'\n",
    "    profit = 'TAKE_PROFIT'\n",
    "    loss  = 'STOP_LOSS'\n",
    "########################"
   ]
  },
  {
   "cell_type": "code",
   "execution_count": 2,
   "id": "2f94a126-573d-4354-8249-467eee0a18cd",
   "metadata": {
    "pycharm": {
     "name": "#%%\n"
    }
   },
   "outputs": [],
   "source": [
    "class BinanceData:\n",
    "    trade_assets = ['BTCUSDT', 'ETHUSDT', 'LTCUSDT']\n",
    "    fig_main = go.Figure()\n",
    "    fig_macd = go.Figure()\n",
    "\n",
    "    \n",
    "    def __init__(self, api_key, secret_key, **kwargs):\n",
    "        '''\n",
    "        Класс взаимодействия с биржей через rest\n",
    "        ########################################\n",
    "        \n",
    "        Возможные валютные пары для торговли:\n",
    "        \n",
    "        ['BTCUSDT','ETHUSDT','BNBUSDT','NEOUSDT','LTCUSDT','QTUMUSDT','ADAUSDT','XRPUSDT','EOSUSDT','IOTAUSDT','XLMUSDT','ONTUSDT',\n",
    "        'TRXUSDT','ETCUSDT','VETUSDT','LINKUSDT','WAVESUSDT','BTTUSDT','ZILUSDT','ZRXUSDT','BATUSDT','XMRUSDT','ZECUSDT','IOSTUSDT',\n",
    "        'CELRUSDT','DASHUSDT','OMGUSDT','THETAUSDT','ENJUSDT','MATICUSDT','ATOMUSDT','ONEUSDT','FTMUSDT','ALGOUSDT','DOGEUSDT','ANKRUSDT',\n",
    "        'TOMOUSDT','CHZUSDT','BANDUSDT','XTZUSDT','RENUSDT','RVNUSDT','HBARUSDT','NKNUSDT','KAVAUSDT','RLCUSDT','BCHUSDT','OGNUSDT','BTSUSDT',\n",
    "        'COTIUSDT','SOLUSDT','CHRUSDT','STMXUSDT','KNCUSDT','LRCUSDT','COMPUSDT','SCUSDT','SNXUSDT','DGBUSDT','SXPUSDT','MKRUSDT','STORJUSDT',\n",
    "        'MANAUSDT','YFIUSDT','BALUSDT','SRMUSDT','CRVUSDT','SANDUSDT','OCEANUSDT','DOTUSDT','RSRUSDT','TRBUSDT','BZRXUSDT','SUSHIUSDT','YFIIUSDT',\n",
    "        'KSMUSDT','EGLDUSDT', 'RUNEUSDT', 'UNIUSDT', 'AVAXUSDT', 'ALPHAUSDT', 'AAVEUSDT', 'NEARUSDT', 'FILUSDT', 'AKROUSDT', 'XEMUSDT', 'SKLUSDT',\n",
    "        'GRTUSDT', '1INCHUSDT', 'REEFUSDT', 'LITUSDT', 'DODOUSDT', 'LINAUSDT']\n",
    "        '''\n",
    "        self.__dict__.update(kwargs)\n",
    "    \n",
    "        self.binance_client = Client(api_key, secret_key)\n",
    "        self.df = self.get_candles()\n",
    "        \n",
    "    def time_convert(self,unix):\n",
    "        ts = int(unix)\n",
    "        ts /= 1000\n",
    "        return datetime.utcfromtimestamp(ts).strftime('%Y-%m-%d %H:%M:%S')\n",
    "\n",
    "    def get_candles(self):\n",
    "        '''\n",
    "        Запрашивает свечи перед началом работы,\n",
    "        для рассчета индикаторов\n",
    "        \n",
    "        '''\n",
    "        \n",
    "        data = []        \n",
    "        try:\n",
    "\n",
    "            for asset in self.trade_assets:\n",
    "                candles = self.binance_client.get_klines(symbol=asset,\n",
    "                                                         interval=self.time_frame)\n",
    "                close_ = list()\n",
    "                date = list()\n",
    "                \n",
    "                for candle in candles:\n",
    "                    close_.append(candle[4])\n",
    "                    date_time = self.time_convert(candle[0])\n",
    "                    date.append(date_time)\n",
    "                    \n",
    "                data.append(close_[-self.window_size:])\n",
    "                \n",
    "            data = list(zip(*data))\n",
    "\n",
    "            df = pd.DataFrame(data,columns=self.trade_assets)\n",
    "            df['date'] = date[-self.window_size:]\n",
    "            \n",
    "            return df\n",
    "        \n",
    "        except Exception as e:\n",
    "            print('Ограничение биржи на количество запросов, попробуйте позже')\n",
    "            \n",
    "    def make_order(self,symbol,sid,quantity=None):\n",
    "        '''\n",
    "        Открывает сделки, включая стоп-лосс и тейк-профит\n",
    "        \n",
    "        '''\n",
    "        \n",
    "        kwargs = {'quantity':quantity, 'symbol':symbol, 'side':side}\n",
    "        try :                \n",
    "                self.binance_client.futures_create_order(**kwargs,\n",
    "                                                         type=OrderTypes.market)\n",
    "                \n",
    "                self.binance_client.futures_create_order(**kwargs,\n",
    "                                                         type=OrderTypes.profit)\n",
    "                self.binance_client.futures_create_order(**kwargs,\n",
    "                                                         type=OrderTypes.loss)\n",
    "                    \n",
    "        except Exception as e:\n",
    "            print('ошибка создания ордера:', e.__str__())\n",
    "##############################################################################\n",
    "                "
   ]
  },
  {
   "cell_type": "code",
   "execution_count": 3,
   "id": "d16c8845-82bc-40af-836e-ddc089b626be",
   "metadata": {
    "pycharm": {
     "name": "#%%\n"
    }
   },
   "outputs": [],
   "source": [
    "class BinanceManager(BinanceData,threading.Thread):\n",
    "    lock = threading.Lock()\n",
    "    \n",
    "    def __init__(self,api_key = None ,secret_key = None,**kwargs):\n",
    "        '''\n",
    "        Основной класс, подключение к сокетам\n",
    "        \n",
    "        '''\n",
    "        threading.Thread.__init__(self)     \n",
    "        BinanceData.__init__(self, api_key, secret_key, **kwargs)\n",
    "        \n",
    "        streams = list()\n",
    "\n",
    "        for asset in self.trade_assets:\n",
    "            s = asset.lower()\n",
    "            stream = f'{s}@kline_'+self.time_frame\n",
    "            streams.append(stream)\n",
    "        \n",
    "        \n",
    "        binance_websocket = ThreadedWebsocketManager(api_key=api_key,\n",
    "                                                     api_secret=secret_key)\n",
    "        binance_websocket.start()\n",
    "        \n",
    "        binance_websocket.start_multiplex_socket(callback=self.call_back, \n",
    "                                                 streams=streams)\n",
    "    def show_plot(self,symbol,*args):\n",
    "        self.fig_main.data = []\n",
    "        self.fig_macd.data = []\n",
    "\n",
    "        clear_output(wait=True)\n",
    "\n",
    "        print(self.df.tail())\n",
    "        print(symbol)\n",
    "                \n",
    "        arr = np.array(self.df[symbol])\n",
    "        self.fig_main.add_trace(go.Scatter(x=self.df['date'], y=arr.astype(float)))\n",
    "        self.fig_main.show()\n",
    "        \n",
    "        macd, signal, hist = args\n",
    "        self.fig_macd.add_trace(go.Scatter(x=self.df['date'], y=macd.astype(float)))\n",
    "        self.fig_macd.add_trace(go.Scatter(x=self.df['date'], y=signal.astype(float)))\n",
    "        self.fig_macd.add_trace(go.Bar(x=self.df['date'], y=hist.astype(float)))\n",
    "        self.fig_macd.show()\n",
    "\n",
    "        \n",
    "        print('последнее обновление:',time.ctime())\n",
    "        \n",
    "\n",
    "\n",
    "        \n",
    "    def call_back(self,message, candle=dict()):\n",
    "        '''\n",
    "        Прием свечей с сокета\n",
    "        \n",
    "        '''\n",
    "        data  = message['data']\n",
    "        symbol = data['s']\n",
    "        kline = data['k']\n",
    "        is_close, close_= kline['x'], kline['c']\n",
    "        timestamp = kline['t']\n",
    "                \n",
    "        if len(candle) == len(self.trade_assets):\n",
    "            self.lock.acquire()\n",
    "            \n",
    "            try:\n",
    "                candle['date'] = self.time_convert(timestamp)\n",
    "                self.df = self.df.append(candle, ignore_index = True)\n",
    "                candle.clear() \n",
    "                \n",
    "            finally:\n",
    "                self.lock.release()\n",
    "\n",
    "        if is_close:\n",
    "            candle[symbol] = close_\n",
    "                       \n",
    "    def run(self):\n",
    "        '''\n",
    "        Логика и открытие сделок\n",
    "        \n",
    "        '''\n",
    "        session_params = {'debug': True, 'alive': False,'ticker': None,\n",
    "                          'quantity': None,'side': None}\n",
    "        \n",
    "        time.sleep(0.1)\n",
    "        \n",
    "        while True:\n",
    "            self.lock.acquire()\n",
    "            \n",
    "            try:\n",
    "                self.df = self.df.tail(self.window_size)\n",
    "                self.df = self.df.reset_index(drop = True)\n",
    "                \n",
    "                \n",
    "                if session_params['debug']:\n",
    "                    main_symbol = 'BTCUSDT'\n",
    "                    \n",
    "                    arr = np.array(self.df[main_symbol])\n",
    "                    args = talib.MACD(arr.astype(float),**self.macd_periods)\n",
    "                    self.show_plot(main_symbol,*args)\n",
    "                    \n",
    "                    hist = args[2]\n",
    "                    if hist[-2] > 0 and hist[-1] < 0:\n",
    "                        print('sell',main_symbol)\n",
    "                    elif hist[-2] < 0 and hist[-1] > 0:\n",
    "                        print('buy',main_symbol)\n",
    "\n",
    "                    \n",
    "                else:\n",
    "                    \n",
    "                    for col in self.df:\n",
    "                        arr = np.array(self.df[col])\n",
    "                        macd, signal, hist = talib.MACD(arr.astype(float),\n",
    "                                                        **self.macd_periods)\n",
    "\n",
    "                        if session_params['alive']:\n",
    "                            \n",
    "                            self.binance_client.futures_cancel_all_open_orders()\n",
    "                            session_params['alive'] = False\n",
    "                            \n",
    "                        else:\n",
    "\n",
    "                            if hist[-2] > 0 and hist[-1] < 0:\n",
    "                                print('sell',col)\n",
    "                                \n",
    "                                self.make_order(col,'SELL')\n",
    "                                session_params['alive'] = True\n",
    "\n",
    "                            elif hist[-2] < 0 and hist[-1] > 0:\n",
    "                                print('buy',col)\n",
    "                                \n",
    "                                self.make_order(col,'BUY')\n",
    "                                session_params['alive'] = True\n",
    "                            \n",
    "            finally:\n",
    "                self.lock.release()\n",
    "                time.sleep(0.1)\n",
    "                \n",
    "            time.sleep(self.frame_sec)\n",
    "            \n",
    "#################################################################          "
   ]
  },
  {
   "cell_type": "code",
   "execution_count": 4,
   "id": "4912c05b-aefa-4840-a2ca-4e257cd2f156",
   "metadata": {
    "pycharm": {
     "name": "#%%\n"
    }
   },
   "outputs": [
    {
     "name": "stdout",
     "output_type": "stream",
     "text": [
      "           BTCUSDT        ETHUSDT       LTCUSDT                 date\n",
      "95  51788.17000000  3948.81000000  231.20000000  2021-09-06 11:01:00\n",
      "96  51779.09000000  3946.08000000  230.90000000  2021-09-06 11:02:00\n",
      "97  51803.39000000  3951.89000000  231.10000000  2021-09-06 11:03:00\n",
      "98  51879.16000000  3951.37000000  231.00000000  2021-09-06 11:04:00\n",
      "99  51853.36000000  3950.52000000  230.70000000  2021-09-06 11:05:00\n",
      "BTCUSDT\n"
     ]
    },
    {
     "data": {
      "application/vnd.plotly.v1+json": {
       "config": {
        "plotlyServerURL": "https://plot.ly"
       },
       "data": [
        {
         "type": "scatter",
         "x": [
          "2021-09-06 09:26:00",
          "2021-09-06 09:27:00",
          "2021-09-06 09:28:00",
          "2021-09-06 09:29:00",
          "2021-09-06 09:30:00",
          "2021-09-06 09:31:00",
          "2021-09-06 09:32:00",
          "2021-09-06 09:33:00",
          "2021-09-06 09:34:00",
          "2021-09-06 09:35:00",
          "2021-09-06 09:36:00",
          "2021-09-06 09:37:00",
          "2021-09-06 09:38:00",
          "2021-09-06 09:39:00",
          "2021-09-06 09:40:00",
          "2021-09-06 09:41:00",
          "2021-09-06 09:42:00",
          "2021-09-06 09:43:00",
          "2021-09-06 09:44:00",
          "2021-09-06 09:45:00",
          "2021-09-06 09:46:00",
          "2021-09-06 09:47:00",
          "2021-09-06 09:48:00",
          "2021-09-06 09:49:00",
          "2021-09-06 09:50:00",
          "2021-09-06 09:51:00",
          "2021-09-06 09:52:00",
          "2021-09-06 09:53:00",
          "2021-09-06 09:54:00",
          "2021-09-06 09:55:00",
          "2021-09-06 09:56:00",
          "2021-09-06 09:57:00",
          "2021-09-06 09:58:00",
          "2021-09-06 09:59:00",
          "2021-09-06 10:00:00",
          "2021-09-06 10:01:00",
          "2021-09-06 10:02:00",
          "2021-09-06 10:03:00",
          "2021-09-06 10:04:00",
          "2021-09-06 10:05:00",
          "2021-09-06 10:06:00",
          "2021-09-06 10:07:00",
          "2021-09-06 10:08:00",
          "2021-09-06 10:09:00",
          "2021-09-06 10:10:00",
          "2021-09-06 10:11:00",
          "2021-09-06 10:12:00",
          "2021-09-06 10:13:00",
          "2021-09-06 10:14:00",
          "2021-09-06 10:15:00",
          "2021-09-06 10:16:00",
          "2021-09-06 10:17:00",
          "2021-09-06 10:18:00",
          "2021-09-06 10:19:00",
          "2021-09-06 10:20:00",
          "2021-09-06 10:21:00",
          "2021-09-06 10:22:00",
          "2021-09-06 10:23:00",
          "2021-09-06 10:24:00",
          "2021-09-06 10:25:00",
          "2021-09-06 10:26:00",
          "2021-09-06 10:27:00",
          "2021-09-06 10:28:00",
          "2021-09-06 10:29:00",
          "2021-09-06 10:30:00",
          "2021-09-06 10:31:00",
          "2021-09-06 10:32:00",
          "2021-09-06 10:33:00",
          "2021-09-06 10:34:00",
          "2021-09-06 10:35:00",
          "2021-09-06 10:36:00",
          "2021-09-06 10:37:00",
          "2021-09-06 10:38:00",
          "2021-09-06 10:39:00",
          "2021-09-06 10:40:00",
          "2021-09-06 10:41:00",
          "2021-09-06 10:42:00",
          "2021-09-06 10:43:00",
          "2021-09-06 10:44:00",
          "2021-09-06 10:45:00",
          "2021-09-06 10:46:00",
          "2021-09-06 10:47:00",
          "2021-09-06 10:48:00",
          "2021-09-06 10:49:00",
          "2021-09-06 10:50:00",
          "2021-09-06 10:51:00",
          "2021-09-06 10:52:00",
          "2021-09-06 10:53:00",
          "2021-09-06 10:54:00",
          "2021-09-06 10:55:00",
          "2021-09-06 10:56:00",
          "2021-09-06 10:57:00",
          "2021-09-06 10:58:00",
          "2021-09-06 10:59:00",
          "2021-09-06 11:00:00",
          "2021-09-06 11:01:00",
          "2021-09-06 11:02:00",
          "2021-09-06 11:03:00",
          "2021-09-06 11:04:00",
          "2021-09-06 11:05:00"
         ],
         "y": [
          51730.69,
          51716.67,
          51722.77,
          51742.01,
          51716.29,
          51719.21,
          51728.56,
          51744.81,
          51740.32,
          51731.96,
          51729.98,
          51752,
          51745.29,
          51775.88,
          51792.16,
          51821.67,
          51821.51,
          51856.26,
          51861.21,
          51848.52,
          51830.23,
          51825.39,
          51814.61,
          51819.3,
          51800.1,
          51797.84,
          51812.57,
          51816.99,
          51829.73,
          51819.77,
          51825,
          51815.76,
          51831.69,
          51814.52,
          51781.7,
          51785.45,
          51799.96,
          51803.46,
          51785.59,
          51767.44,
          51782.24,
          51788.07,
          51805.86,
          51803.58,
          51801.66,
          51787.47,
          51802.06,
          51813.86,
          51807.62,
          51797.87,
          51782.51,
          51751.15,
          51760.15,
          51762.39,
          51739.7,
          51743.19,
          51741.22,
          51750,
          51752.91,
          51756.09,
          51752.84,
          51756.04,
          51754.84,
          51767.96,
          51764,
          51808.88,
          51811.37,
          51754.36,
          51741.05,
          51733.31,
          51724.84,
          51724.34,
          51742.78,
          51767.5,
          51762.03,
          51744.56,
          51748.43,
          51764.95,
          51759.09,
          51761.73,
          51739.06,
          51747.3,
          51741.89,
          51741.91,
          51751.97,
          51755.94,
          51745.35,
          51744.81,
          51741.51,
          51746.78,
          51750.28,
          51766,
          51770.53,
          51769.81,
          51794.02,
          51788.17,
          51779.09,
          51803.39,
          51879.16,
          51853.36
         ]
        }
       ],
       "layout": {
        "autosize": true,
        "template": {
         "data": {
          "bar": [
           {
            "error_x": {
             "color": "#2a3f5f"
            },
            "error_y": {
             "color": "#2a3f5f"
            },
            "marker": {
             "line": {
              "color": "#E5ECF6",
              "width": 0.5
             },
             "pattern": {
              "fillmode": "overlay",
              "size": 10,
              "solidity": 0.2
             }
            },
            "type": "bar"
           }
          ],
          "barpolar": [
           {
            "marker": {
             "line": {
              "color": "#E5ECF6",
              "width": 0.5
             },
             "pattern": {
              "fillmode": "overlay",
              "size": 10,
              "solidity": 0.2
             }
            },
            "type": "barpolar"
           }
          ],
          "carpet": [
           {
            "aaxis": {
             "endlinecolor": "#2a3f5f",
             "gridcolor": "white",
             "linecolor": "white",
             "minorgridcolor": "white",
             "startlinecolor": "#2a3f5f"
            },
            "baxis": {
             "endlinecolor": "#2a3f5f",
             "gridcolor": "white",
             "linecolor": "white",
             "minorgridcolor": "white",
             "startlinecolor": "#2a3f5f"
            },
            "type": "carpet"
           }
          ],
          "choropleth": [
           {
            "colorbar": {
             "outlinewidth": 0,
             "ticks": ""
            },
            "type": "choropleth"
           }
          ],
          "contour": [
           {
            "colorbar": {
             "outlinewidth": 0,
             "ticks": ""
            },
            "colorscale": [
             [
              0,
              "#0d0887"
             ],
             [
              0.1111111111111111,
              "#46039f"
             ],
             [
              0.2222222222222222,
              "#7201a8"
             ],
             [
              0.3333333333333333,
              "#9c179e"
             ],
             [
              0.4444444444444444,
              "#bd3786"
             ],
             [
              0.5555555555555556,
              "#d8576b"
             ],
             [
              0.6666666666666666,
              "#ed7953"
             ],
             [
              0.7777777777777778,
              "#fb9f3a"
             ],
             [
              0.8888888888888888,
              "#fdca26"
             ],
             [
              1,
              "#f0f921"
             ]
            ],
            "type": "contour"
           }
          ],
          "contourcarpet": [
           {
            "colorbar": {
             "outlinewidth": 0,
             "ticks": ""
            },
            "type": "contourcarpet"
           }
          ],
          "heatmap": [
           {
            "colorbar": {
             "outlinewidth": 0,
             "ticks": ""
            },
            "colorscale": [
             [
              0,
              "#0d0887"
             ],
             [
              0.1111111111111111,
              "#46039f"
             ],
             [
              0.2222222222222222,
              "#7201a8"
             ],
             [
              0.3333333333333333,
              "#9c179e"
             ],
             [
              0.4444444444444444,
              "#bd3786"
             ],
             [
              0.5555555555555556,
              "#d8576b"
             ],
             [
              0.6666666666666666,
              "#ed7953"
             ],
             [
              0.7777777777777778,
              "#fb9f3a"
             ],
             [
              0.8888888888888888,
              "#fdca26"
             ],
             [
              1,
              "#f0f921"
             ]
            ],
            "type": "heatmap"
           }
          ],
          "heatmapgl": [
           {
            "colorbar": {
             "outlinewidth": 0,
             "ticks": ""
            },
            "colorscale": [
             [
              0,
              "#0d0887"
             ],
             [
              0.1111111111111111,
              "#46039f"
             ],
             [
              0.2222222222222222,
              "#7201a8"
             ],
             [
              0.3333333333333333,
              "#9c179e"
             ],
             [
              0.4444444444444444,
              "#bd3786"
             ],
             [
              0.5555555555555556,
              "#d8576b"
             ],
             [
              0.6666666666666666,
              "#ed7953"
             ],
             [
              0.7777777777777778,
              "#fb9f3a"
             ],
             [
              0.8888888888888888,
              "#fdca26"
             ],
             [
              1,
              "#f0f921"
             ]
            ],
            "type": "heatmapgl"
           }
          ],
          "histogram": [
           {
            "marker": {
             "pattern": {
              "fillmode": "overlay",
              "size": 10,
              "solidity": 0.2
             }
            },
            "type": "histogram"
           }
          ],
          "histogram2d": [
           {
            "colorbar": {
             "outlinewidth": 0,
             "ticks": ""
            },
            "colorscale": [
             [
              0,
              "#0d0887"
             ],
             [
              0.1111111111111111,
              "#46039f"
             ],
             [
              0.2222222222222222,
              "#7201a8"
             ],
             [
              0.3333333333333333,
              "#9c179e"
             ],
             [
              0.4444444444444444,
              "#bd3786"
             ],
             [
              0.5555555555555556,
              "#d8576b"
             ],
             [
              0.6666666666666666,
              "#ed7953"
             ],
             [
              0.7777777777777778,
              "#fb9f3a"
             ],
             [
              0.8888888888888888,
              "#fdca26"
             ],
             [
              1,
              "#f0f921"
             ]
            ],
            "type": "histogram2d"
           }
          ],
          "histogram2dcontour": [
           {
            "colorbar": {
             "outlinewidth": 0,
             "ticks": ""
            },
            "colorscale": [
             [
              0,
              "#0d0887"
             ],
             [
              0.1111111111111111,
              "#46039f"
             ],
             [
              0.2222222222222222,
              "#7201a8"
             ],
             [
              0.3333333333333333,
              "#9c179e"
             ],
             [
              0.4444444444444444,
              "#bd3786"
             ],
             [
              0.5555555555555556,
              "#d8576b"
             ],
             [
              0.6666666666666666,
              "#ed7953"
             ],
             [
              0.7777777777777778,
              "#fb9f3a"
             ],
             [
              0.8888888888888888,
              "#fdca26"
             ],
             [
              1,
              "#f0f921"
             ]
            ],
            "type": "histogram2dcontour"
           }
          ],
          "mesh3d": [
           {
            "colorbar": {
             "outlinewidth": 0,
             "ticks": ""
            },
            "type": "mesh3d"
           }
          ],
          "parcoords": [
           {
            "line": {
             "colorbar": {
              "outlinewidth": 0,
              "ticks": ""
             }
            },
            "type": "parcoords"
           }
          ],
          "pie": [
           {
            "automargin": true,
            "type": "pie"
           }
          ],
          "scatter": [
           {
            "marker": {
             "colorbar": {
              "outlinewidth": 0,
              "ticks": ""
             }
            },
            "type": "scatter"
           }
          ],
          "scatter3d": [
           {
            "line": {
             "colorbar": {
              "outlinewidth": 0,
              "ticks": ""
             }
            },
            "marker": {
             "colorbar": {
              "outlinewidth": 0,
              "ticks": ""
             }
            },
            "type": "scatter3d"
           }
          ],
          "scattercarpet": [
           {
            "marker": {
             "colorbar": {
              "outlinewidth": 0,
              "ticks": ""
             }
            },
            "type": "scattercarpet"
           }
          ],
          "scattergeo": [
           {
            "marker": {
             "colorbar": {
              "outlinewidth": 0,
              "ticks": ""
             }
            },
            "type": "scattergeo"
           }
          ],
          "scattergl": [
           {
            "marker": {
             "colorbar": {
              "outlinewidth": 0,
              "ticks": ""
             }
            },
            "type": "scattergl"
           }
          ],
          "scattermapbox": [
           {
            "marker": {
             "colorbar": {
              "outlinewidth": 0,
              "ticks": ""
             }
            },
            "type": "scattermapbox"
           }
          ],
          "scatterpolar": [
           {
            "marker": {
             "colorbar": {
              "outlinewidth": 0,
              "ticks": ""
             }
            },
            "type": "scatterpolar"
           }
          ],
          "scatterpolargl": [
           {
            "marker": {
             "colorbar": {
              "outlinewidth": 0,
              "ticks": ""
             }
            },
            "type": "scatterpolargl"
           }
          ],
          "scatterternary": [
           {
            "marker": {
             "colorbar": {
              "outlinewidth": 0,
              "ticks": ""
             }
            },
            "type": "scatterternary"
           }
          ],
          "surface": [
           {
            "colorbar": {
             "outlinewidth": 0,
             "ticks": ""
            },
            "colorscale": [
             [
              0,
              "#0d0887"
             ],
             [
              0.1111111111111111,
              "#46039f"
             ],
             [
              0.2222222222222222,
              "#7201a8"
             ],
             [
              0.3333333333333333,
              "#9c179e"
             ],
             [
              0.4444444444444444,
              "#bd3786"
             ],
             [
              0.5555555555555556,
              "#d8576b"
             ],
             [
              0.6666666666666666,
              "#ed7953"
             ],
             [
              0.7777777777777778,
              "#fb9f3a"
             ],
             [
              0.8888888888888888,
              "#fdca26"
             ],
             [
              1,
              "#f0f921"
             ]
            ],
            "type": "surface"
           }
          ],
          "table": [
           {
            "cells": {
             "fill": {
              "color": "#EBF0F8"
             },
             "line": {
              "color": "white"
             }
            },
            "header": {
             "fill": {
              "color": "#C8D4E3"
             },
             "line": {
              "color": "white"
             }
            },
            "type": "table"
           }
          ]
         },
         "layout": {
          "annotationdefaults": {
           "arrowcolor": "#2a3f5f",
           "arrowhead": 0,
           "arrowwidth": 1
          },
          "autotypenumbers": "strict",
          "coloraxis": {
           "colorbar": {
            "outlinewidth": 0,
            "ticks": ""
           }
          },
          "colorscale": {
           "diverging": [
            [
             0,
             "#8e0152"
            ],
            [
             0.1,
             "#c51b7d"
            ],
            [
             0.2,
             "#de77ae"
            ],
            [
             0.3,
             "#f1b6da"
            ],
            [
             0.4,
             "#fde0ef"
            ],
            [
             0.5,
             "#f7f7f7"
            ],
            [
             0.6,
             "#e6f5d0"
            ],
            [
             0.7,
             "#b8e186"
            ],
            [
             0.8,
             "#7fbc41"
            ],
            [
             0.9,
             "#4d9221"
            ],
            [
             1,
             "#276419"
            ]
           ],
           "sequential": [
            [
             0,
             "#0d0887"
            ],
            [
             0.1111111111111111,
             "#46039f"
            ],
            [
             0.2222222222222222,
             "#7201a8"
            ],
            [
             0.3333333333333333,
             "#9c179e"
            ],
            [
             0.4444444444444444,
             "#bd3786"
            ],
            [
             0.5555555555555556,
             "#d8576b"
            ],
            [
             0.6666666666666666,
             "#ed7953"
            ],
            [
             0.7777777777777778,
             "#fb9f3a"
            ],
            [
             0.8888888888888888,
             "#fdca26"
            ],
            [
             1,
             "#f0f921"
            ]
           ],
           "sequentialminus": [
            [
             0,
             "#0d0887"
            ],
            [
             0.1111111111111111,
             "#46039f"
            ],
            [
             0.2222222222222222,
             "#7201a8"
            ],
            [
             0.3333333333333333,
             "#9c179e"
            ],
            [
             0.4444444444444444,
             "#bd3786"
            ],
            [
             0.5555555555555556,
             "#d8576b"
            ],
            [
             0.6666666666666666,
             "#ed7953"
            ],
            [
             0.7777777777777778,
             "#fb9f3a"
            ],
            [
             0.8888888888888888,
             "#fdca26"
            ],
            [
             1,
             "#f0f921"
            ]
           ]
          },
          "colorway": [
           "#636efa",
           "#EF553B",
           "#00cc96",
           "#ab63fa",
           "#FFA15A",
           "#19d3f3",
           "#FF6692",
           "#B6E880",
           "#FF97FF",
           "#FECB52"
          ],
          "font": {
           "color": "#2a3f5f"
          },
          "geo": {
           "bgcolor": "white",
           "lakecolor": "white",
           "landcolor": "#E5ECF6",
           "showlakes": true,
           "showland": true,
           "subunitcolor": "white"
          },
          "hoverlabel": {
           "align": "left"
          },
          "hovermode": "closest",
          "mapbox": {
           "style": "light"
          },
          "paper_bgcolor": "white",
          "plot_bgcolor": "#E5ECF6",
          "polar": {
           "angularaxis": {
            "gridcolor": "white",
            "linecolor": "white",
            "ticks": ""
           },
           "bgcolor": "#E5ECF6",
           "radialaxis": {
            "gridcolor": "white",
            "linecolor": "white",
            "ticks": ""
           }
          },
          "scene": {
           "xaxis": {
            "backgroundcolor": "#E5ECF6",
            "gridcolor": "white",
            "gridwidth": 2,
            "linecolor": "white",
            "showbackground": true,
            "ticks": "",
            "zerolinecolor": "white"
           },
           "yaxis": {
            "backgroundcolor": "#E5ECF6",
            "gridcolor": "white",
            "gridwidth": 2,
            "linecolor": "white",
            "showbackground": true,
            "ticks": "",
            "zerolinecolor": "white"
           },
           "zaxis": {
            "backgroundcolor": "#E5ECF6",
            "gridcolor": "white",
            "gridwidth": 2,
            "linecolor": "white",
            "showbackground": true,
            "ticks": "",
            "zerolinecolor": "white"
           }
          },
          "shapedefaults": {
           "line": {
            "color": "#2a3f5f"
           }
          },
          "ternary": {
           "aaxis": {
            "gridcolor": "white",
            "linecolor": "white",
            "ticks": ""
           },
           "baxis": {
            "gridcolor": "white",
            "linecolor": "white",
            "ticks": ""
           },
           "bgcolor": "#E5ECF6",
           "caxis": {
            "gridcolor": "white",
            "linecolor": "white",
            "ticks": ""
           }
          },
          "title": {
           "x": 0.05
          },
          "xaxis": {
           "automargin": true,
           "gridcolor": "white",
           "linecolor": "white",
           "ticks": "",
           "title": {
            "standoff": 15
           },
           "zerolinecolor": "white",
           "zerolinewidth": 2
          },
          "yaxis": {
           "automargin": true,
           "gridcolor": "white",
           "linecolor": "white",
           "ticks": "",
           "title": {
            "standoff": 15
           },
           "zerolinecolor": "white",
           "zerolinewidth": 2
          }
         }
        },
        "xaxis": {
         "autorange": true,
         "range": [
          "2021-09-06 09:26",
          "2021-09-06 11:05"
         ],
         "type": "date"
        },
        "yaxis": {
         "autorange": true,
         "range": [
          51707.24166666667,
          51888.208333333336
         ],
         "type": "linear"
        }
       }
      },
      "image/png": "[encoded data removed]",
      "text/html": [
       "<div>                            <div id=\"ca3a9035-de70-4d30-89c8-1982ee14f136\" class=\"plotly-graph-div\" style=\"height:525px; width:100%;\"></div>            <script type=\"text/javascript\">                require([\"plotly\"], function(Plotly) {                    window.PLOTLYENV=window.PLOTLYENV || {};                                    if (document.getElementById(\"ca3a9035-de70-4d30-89c8-1982ee14f136\")) {                    Plotly.newPlot(                        \"ca3a9035-de70-4d30-89c8-1982ee14f136\",                        [{\"type\":\"scatter\",\"x\":[\"2021-09-06 09:26:00\",\"2021-09-06 09:27:00\",\"2021-09-06 09:28:00\",\"2021-09-06 09:29:00\",\"2021-09-06 09:30:00\",\"2021-09-06 09:31:00\",\"2021-09-06 09:32:00\",\"2021-09-06 09:33:00\",\"2021-09-06 09:34:00\",\"2021-09-06 09:35:00\",\"2021-09-06 09:36:00\",\"2021-09-06 09:37:00\",\"2021-09-06 09:38:00\",\"2021-09-06 09:39:00\",\"2021-09-06 09:40:00\",\"2021-09-06 09:41:00\",\"2021-09-06 09:42:00\",\"2021-09-06 09:43:00\",\"2021-09-06 09:44:00\",\"2021-09-06 09:45:00\",\"2021-09-06 09:46:00\",\"2021-09-06 09:47:00\",\"2021-09-06 09:48:00\",\"2021-09-06 09:49:00\",\"2021-09-06 09:50:00\",\"2021-09-06 09:51:00\",\"2021-09-06 09:52:00\",\"2021-09-06 09:53:00\",\"2021-09-06 09:54:00\",\"2021-09-06 09:55:00\",\"2021-09-06 09:56:00\",\"2021-09-06 09:57:00\",\"2021-09-06 09:58:00\",\"2021-09-06 09:59:00\",\"2021-09-06 10:00:00\",\"2021-09-06 10:01:00\",\"2021-09-06 10:02:00\",\"2021-09-06 10:03:00\",\"2021-09-06 10:04:00\",\"2021-09-06 10:05:00\",\"2021-09-06 10:06:00\",\"2021-09-06 10:07:00\",\"2021-09-06 10:08:00\",\"2021-09-06 10:09:00\",\"2021-09-06 10:10:00\",\"2021-09-06 10:11:00\",\"2021-09-06 10:12:00\",\"2021-09-06 10:13:00\",\"2021-09-06 10:14:00\",\"2021-09-06 10:15:00\",\"2021-09-06 10:16:00\",\"2021-09-06 10:17:00\",\"2021-09-06 10:18:00\",\"2021-09-06 10:19:00\",\"2021-09-06 10:20:00\",\"2021-09-06 10:21:00\",\"2021-09-06 10:22:00\",\"2021-09-06 10:23:00\",\"2021-09-06 10:24:00\",\"2021-09-06 10:25:00\",\"2021-09-06 10:26:00\",\"2021-09-06 10:27:00\",\"2021-09-06 10:28:00\",\"2021-09-06 10:29:00\",\"2021-09-06 10:30:00\",\"2021-09-06 10:31:00\",\"2021-09-06 10:32:00\",\"2021-09-06 10:33:00\",\"2021-09-06 10:34:00\",\"2021-09-06 10:35:00\",\"2021-09-06 10:36:00\",\"2021-09-06 10:37:00\",\"2021-09-06 10:38:00\",\"2021-09-06 10:39:00\",\"2021-09-06 10:40:00\",\"2021-09-06 10:41:00\",\"2021-09-06 10:42:00\",\"2021-09-06 10:43:00\",\"2021-09-06 10:44:00\",\"2021-09-06 10:45:00\",\"2021-09-06 10:46:00\",\"2021-09-06 10:47:00\",\"2021-09-06 10:48:00\",\"2021-09-06 10:49:00\",\"2021-09-06 10:50:00\",\"2021-09-06 10:51:00\",\"2021-09-06 10:52:00\",\"2021-09-06 10:53:00\",\"2021-09-06 10:54:00\",\"2021-09-06 10:55:00\",\"2021-09-06 10:56:00\",\"2021-09-06 10:57:00\",\"2021-09-06 10:58:00\",\"2021-09-06 10:59:00\",\"2021-09-06 11:00:00\",\"2021-09-06 11:01:00\",\"2021-09-06 11:02:00\",\"2021-09-06 11:03:00\",\"2021-09-06 11:04:00\",\"2021-09-06 11:05:00\"],\"y\":[51730.69,51716.67,51722.77,51742.01,51716.29,51719.21,51728.56,51744.81,51740.32,51731.96,51729.98,51752.0,51745.29,51775.88,51792.16,51821.67,51821.51,51856.26,51861.21,51848.52,51830.23,51825.39,51814.61,51819.3,51800.1,51797.84,51812.57,51816.99,51829.73,51819.77,51825.0,51815.76,51831.69,51814.52,51781.7,51785.45,51799.96,51803.46,51785.59,51767.44,51782.24,51788.07,51805.86,51803.58,51801.66,51787.47,51802.06,51813.86,51807.62,51797.87,51782.51,51751.15,51760.15,51762.39,51739.7,51743.19,51741.22,51750.0,51752.91,51756.09,51752.84,51756.04,51754.84,51767.96,51764.0,51808.88,51811.37,51754.36,51741.05,51733.31,51724.84,51724.34,51742.78,51767.5,51762.03,51744.56,51748.43,51764.95,51759.09,51761.73,51739.06,51747.3,51741.89,51741.91,51751.97,51755.94,51745.35,51744.81,51741.51,51746.78,51750.28,51766.0,51770.53,51769.81,51794.02,51788.17,51779.09,51803.39,51879.16,51853.36]}],                        {\"template\":{\"data\":{\"bar\":[{\"error_x\":{\"color\":\"#2a3f5f\"},\"error_y\":{\"color\":\"#2a3f5f\"},\"marker\":{\"line\":{\"color\":\"#E5ECF6\",\"width\":0.5},\"pattern\":{\"fillmode\":\"overlay\",\"size\":10,\"solidity\":0.2}},\"type\":\"bar\"}],\"barpolar\":[{\"marker\":{\"line\":{\"color\":\"#E5ECF6\",\"width\":0.5},\"pattern\":{\"fillmode\":\"overlay\",\"size\":10,\"solidity\":0.2}},\"type\":\"barpolar\"}],\"carpet\":[{\"aaxis\":{\"endlinecolor\":\"#2a3f5f\",\"gridcolor\":\"white\",\"linecolor\":\"white\",\"minorgridcolor\":\"white\",\"startlinecolor\":\"#2a3f5f\"},\"baxis\":{\"endlinecolor\":\"#2a3f5f\",\"gridcolor\":\"white\",\"linecolor\":\"white\",\"minorgridcolor\":\"white\",\"startlinecolor\":\"#2a3f5f\"},\"type\":\"carpet\"}],\"choropleth\":[{\"colorbar\":{\"outlinewidth\":0,\"ticks\":\"\"},\"type\":\"choropleth\"}],\"contour\":[{\"colorbar\":{\"outlinewidth\":0,\"ticks\":\"\"},\"colorscale\":[[0.0,\"#0d0887\"],[0.1111111111111111,\"#46039f\"],[0.2222222222222222,\"#7201a8\"],[0.3333333333333333,\"#9c179e\"],[0.4444444444444444,\"#bd3786\"],[0.5555555555555556,\"#d8576b\"],[0.6666666666666666,\"#ed7953\"],[0.7777777777777778,\"#fb9f3a\"],[0.8888888888888888,\"#fdca26\"],[1.0,\"#f0f921\"]],\"type\":\"contour\"}],\"contourcarpet\":[{\"colorbar\":{\"outlinewidth\":0,\"ticks\":\"\"},\"type\":\"contourcarpet\"}],\"heatmap\":[{\"colorbar\":{\"outlinewidth\":0,\"ticks\":\"\"},\"colorscale\":[[0.0,\"#0d0887\"],[0.1111111111111111,\"#46039f\"],[0.2222222222222222,\"#7201a8\"],[0.3333333333333333,\"#9c179e\"],[0.4444444444444444,\"#bd3786\"],[0.5555555555555556,\"#d8576b\"],[0.6666666666666666,\"#ed7953\"],[0.7777777777777778,\"#fb9f3a\"],[0.8888888888888888,\"#fdca26\"],[1.0,\"#f0f921\"]],\"type\":\"heatmap\"}],\"heatmapgl\":[{\"colorbar\":{\"outlinewidth\":0,\"ticks\":\"\"},\"colorscale\":[[0.0,\"#0d0887\"],[0.1111111111111111,\"#46039f\"],[0.2222222222222222,\"#7201a8\"],[0.3333333333333333,\"#9c179e\"],[0.4444444444444444,\"#bd3786\"],[0.5555555555555556,\"#d8576b\"],[0.6666666666666666,\"#ed7953\"],[0.7777777777777778,\"#fb9f3a\"],[0.8888888888888888,\"#fdca26\"],[1.0,\"#f0f921\"]],\"type\":\"heatmapgl\"}],\"histogram\":[{\"marker\":{\"pattern\":{\"fillmode\":\"overlay\",\"size\":10,\"solidity\":0.2}},\"type\":\"histogram\"}],\"histogram2d\":[{\"colorbar\":{\"outlinewidth\":0,\"ticks\":\"\"},\"colorscale\":[[0.0,\"#0d0887\"],[0.1111111111111111,\"#46039f\"],[0.2222222222222222,\"#7201a8\"],[0.3333333333333333,\"#9c179e\"],[0.4444444444444444,\"#bd3786\"],[0.5555555555555556,\"#d8576b\"],[0.6666666666666666,\"#ed7953\"],[0.7777777777777778,\"#fb9f3a\"],[0.8888888888888888,\"#fdca26\"],[1.0,\"#f0f921\"]],\"type\":\"histogram2d\"}],\"histogram2dcontour\":[{\"colorbar\":{\"outlinewidth\":0,\"ticks\":\"\"},\"colorscale\":[[0.0,\"#0d0887\"],[0.1111111111111111,\"#46039f\"],[0.2222222222222222,\"#7201a8\"],[0.3333333333333333,\"#9c179e\"],[0.4444444444444444,\"#bd3786\"],[0.5555555555555556,\"#d8576b\"],[0.6666666666666666,\"#ed7953\"],[0.7777777777777778,\"#fb9f3a\"],[0.8888888888888888,\"#fdca26\"],[1.0,\"#f0f921\"]],\"type\":\"histogram2dcontour\"}],\"mesh3d\":[{\"colorbar\":{\"outlinewidth\":0,\"ticks\":\"\"},\"type\":\"mesh3d\"}],\"parcoords\":[{\"line\":{\"colorbar\":{\"outlinewidth\":0,\"ticks\":\"\"}},\"type\":\"parcoords\"}],\"pie\":[{\"automargin\":true,\"type\":\"pie\"}],\"scatter\":[{\"marker\":{\"colorbar\":{\"outlinewidth\":0,\"ticks\":\"\"}},\"type\":\"scatter\"}],\"scatter3d\":[{\"line\":{\"colorbar\":{\"outlinewidth\":0,\"ticks\":\"\"}},\"marker\":{\"colorbar\":{\"outlinewidth\":0,\"ticks\":\"\"}},\"type\":\"scatter3d\"}],\"scattercarpet\":[{\"marker\":{\"colorbar\":{\"outlinewidth\":0,\"ticks\":\"\"}},\"type\":\"scattercarpet\"}],\"scattergeo\":[{\"marker\":{\"colorbar\":{\"outlinewidth\":0,\"ticks\":\"\"}},\"type\":\"scattergeo\"}],\"scattergl\":[{\"marker\":{\"colorbar\":{\"outlinewidth\":0,\"ticks\":\"\"}},\"type\":\"scattergl\"}],\"scattermapbox\":[{\"marker\":{\"colorbar\":{\"outlinewidth\":0,\"ticks\":\"\"}},\"type\":\"scattermapbox\"}],\"scatterpolar\":[{\"marker\":{\"colorbar\":{\"outlinewidth\":0,\"ticks\":\"\"}},\"type\":\"scatterpolar\"}],\"scatterpolargl\":[{\"marker\":{\"colorbar\":{\"outlinewidth\":0,\"ticks\":\"\"}},\"type\":\"scatterpolargl\"}],\"scatterternary\":[{\"marker\":{\"colorbar\":{\"outlinewidth\":0,\"ticks\":\"\"}},\"type\":\"scatterternary\"}],\"surface\":[{\"colorbar\":{\"outlinewidth\":0,\"ticks\":\"\"},\"colorscale\":[[0.0,\"#0d0887\"],[0.1111111111111111,\"#46039f\"],[0.2222222222222222,\"#7201a8\"],[0.3333333333333333,\"#9c179e\"],[0.4444444444444444,\"#bd3786\"],[0.5555555555555556,\"#d8576b\"],[0.6666666666666666,\"#ed7953\"],[0.7777777777777778,\"#fb9f3a\"],[0.8888888888888888,\"#fdca26\"],[1.0,\"#f0f921\"]],\"type\":\"surface\"}],\"table\":[{\"cells\":{\"fill\":{\"color\":\"#EBF0F8\"},\"line\":{\"color\":\"white\"}},\"header\":{\"fill\":{\"color\":\"#C8D4E3\"},\"line\":{\"color\":\"white\"}},\"type\":\"table\"}]},\"layout\":{\"annotationdefaults\":{\"arrowcolor\":\"#2a3f5f\",\"arrowhead\":0,\"arrowwidth\":1},\"autotypenumbers\":\"strict\",\"coloraxis\":{\"colorbar\":{\"outlinewidth\":0,\"ticks\":\"\"}},\"colorscale\":{\"diverging\":[[0,\"#8e0152\"],[0.1,\"#c51b7d\"],[0.2,\"#de77ae\"],[0.3,\"#f1b6da\"],[0.4,\"#fde0ef\"],[0.5,\"#f7f7f7\"],[0.6,\"#e6f5d0\"],[0.7,\"#b8e186\"],[0.8,\"#7fbc41\"],[0.9,\"#4d9221\"],[1,\"#276419\"]],\"sequential\":[[0.0,\"#0d0887\"],[0.1111111111111111,\"#46039f\"],[0.2222222222222222,\"#7201a8\"],[0.3333333333333333,\"#9c179e\"],[0.4444444444444444,\"#bd3786\"],[0.5555555555555556,\"#d8576b\"],[0.6666666666666666,\"#ed7953\"],[0.7777777777777778,\"#fb9f3a\"],[0.8888888888888888,\"#fdca26\"],[1.0,\"#f0f921\"]],\"sequentialminus\":[[0.0,\"#0d0887\"],[0.1111111111111111,\"#46039f\"],[0.2222222222222222,\"#7201a8\"],[0.3333333333333333,\"#9c179e\"],[0.4444444444444444,\"#bd3786\"],[0.5555555555555556,\"#d8576b\"],[0.6666666666666666,\"#ed7953\"],[0.7777777777777778,\"#fb9f3a\"],[0.8888888888888888,\"#fdca26\"],[1.0,\"#f0f921\"]]},\"colorway\":[\"#636efa\",\"#EF553B\",\"#00cc96\",\"#ab63fa\",\"#FFA15A\",\"#19d3f3\",\"#FF6692\",\"#B6E880\",\"#FF97FF\",\"#FECB52\"],\"font\":{\"color\":\"#2a3f5f\"},\"geo\":{\"bgcolor\":\"white\",\"lakecolor\":\"white\",\"landcolor\":\"#E5ECF6\",\"showlakes\":true,\"showland\":true,\"subunitcolor\":\"white\"},\"hoverlabel\":{\"align\":\"left\"},\"hovermode\":\"closest\",\"mapbox\":{\"style\":\"light\"},\"paper_bgcolor\":\"white\",\"plot_bgcolor\":\"#E5ECF6\",\"polar\":{\"angularaxis\":{\"gridcolor\":\"white\",\"linecolor\":\"white\",\"ticks\":\"\"},\"bgcolor\":\"#E5ECF6\",\"radialaxis\":{\"gridcolor\":\"white\",\"linecolor\":\"white\",\"ticks\":\"\"}},\"scene\":{\"xaxis\":{\"backgroundcolor\":\"#E5ECF6\",\"gridcolor\":\"white\",\"gridwidth\":2,\"linecolor\":\"white\",\"showbackground\":true,\"ticks\":\"\",\"zerolinecolor\":\"white\"},\"yaxis\":{\"backgroundcolor\":\"#E5ECF6\",\"gridcolor\":\"white\",\"gridwidth\":2,\"linecolor\":\"white\",\"showbackground\":true,\"ticks\":\"\",\"zerolinecolor\":\"white\"},\"zaxis\":{\"backgroundcolor\":\"#E5ECF6\",\"gridcolor\":\"white\",\"gridwidth\":2,\"linecolor\":\"white\",\"showbackground\":true,\"ticks\":\"\",\"zerolinecolor\":\"white\"}},\"shapedefaults\":{\"line\":{\"color\":\"#2a3f5f\"}},\"ternary\":{\"aaxis\":{\"gridcolor\":\"white\",\"linecolor\":\"white\",\"ticks\":\"\"},\"baxis\":{\"gridcolor\":\"white\",\"linecolor\":\"white\",\"ticks\":\"\"},\"bgcolor\":\"#E5ECF6\",\"caxis\":{\"gridcolor\":\"white\",\"linecolor\":\"white\",\"ticks\":\"\"}},\"title\":{\"x\":0.05},\"xaxis\":{\"automargin\":true,\"gridcolor\":\"white\",\"linecolor\":\"white\",\"ticks\":\"\",\"title\":{\"standoff\":15},\"zerolinecolor\":\"white\",\"zerolinewidth\":2},\"yaxis\":{\"automargin\":true,\"gridcolor\":\"white\",\"linecolor\":\"white\",\"ticks\":\"\",\"title\":{\"standoff\":15},\"zerolinecolor\":\"white\",\"zerolinewidth\":2}}}},                        {\"responsive\": true}                    ).then(function(){\n",
       "                            \n",
       "var gd = document.getElementById('ca3a9035-de70-4d30-89c8-1982ee14f136');\n",
       "var x = new MutationObserver(function (mutations, observer) {{\n",
       "        var display = window.getComputedStyle(gd).display;\n",
       "        if (!display || display === 'none') {{\n",
       "            console.log([gd, 'removed!']);\n",
       "            Plotly.purge(gd);\n",
       "            observer.disconnect();\n",
       "        }}\n",
       "}});\n",
       "\n",
       "// Listen for the removal of the full notebook cells\n",
       "var notebookContainer = gd.closest('#notebook-container');\n",
       "if (notebookContainer) {{\n",
       "    x.observe(notebookContainer, {childList: true});\n",
       "}}\n",
       "\n",
       "// Listen for the clearing of the current output cell\n",
       "var outputEl = gd.closest('.output');\n",
       "if (outputEl) {{\n",
       "    x.observe(outputEl, {childList: true});\n",
       "}}\n",
       "\n",
       "                        })                };                });            </script>        </div>"
      ]
     },
     "metadata": {},
     "output_type": "display_data"
    },
    {
     "data": {
      "application/vnd.plotly.v1+json": {
       "config": {
        "plotlyServerURL": "https://plot.ly"
       },
       "data": [
        {
         "type": "scatter",
         "x": [
          "2021-09-06 09:26:00",
          "2021-09-06 09:27:00",
          "2021-09-06 09:28:00",
          "2021-09-06 09:29:00",
          "2021-09-06 09:30:00",
          "2021-09-06 09:31:00",
          "2021-09-06 09:32:00",
          "2021-09-06 09:33:00",
          "2021-09-06 09:34:00",
          "2021-09-06 09:35:00",
          "2021-09-06 09:36:00",
          "2021-09-06 09:37:00",
          "2021-09-06 09:38:00",
          "2021-09-06 09:39:00",
          "2021-09-06 09:40:00",
          "2021-09-06 09:41:00",
          "2021-09-06 09:42:00",
          "2021-09-06 09:43:00",
          "2021-09-06 09:44:00",
          "2021-09-06 09:45:00",
          "2021-09-06 09:46:00",
          "2021-09-06 09:47:00",
          "2021-09-06 09:48:00",
          "2021-09-06 09:49:00",
          "2021-09-06 09:50:00",
          "2021-09-06 09:51:00",
          "2021-09-06 09:52:00",
          "2021-09-06 09:53:00",
          "2021-09-06 09:54:00",
          "2021-09-06 09:55:00",
          "2021-09-06 09:56:00",
          "2021-09-06 09:57:00",
          "2021-09-06 09:58:00",
          "2021-09-06 09:59:00",
          "2021-09-06 10:00:00",
          "2021-09-06 10:01:00",
          "2021-09-06 10:02:00",
          "2021-09-06 10:03:00",
          "2021-09-06 10:04:00",
          "2021-09-06 10:05:00",
          "2021-09-06 10:06:00",
          "2021-09-06 10:07:00",
          "2021-09-06 10:08:00",
          "2021-09-06 10:09:00",
          "2021-09-06 10:10:00",
          "2021-09-06 10:11:00",
          "2021-09-06 10:12:00",
          "2021-09-06 10:13:00",
          "2021-09-06 10:14:00",
          "2021-09-06 10:15:00",
          "2021-09-06 10:16:00",
          "2021-09-06 10:17:00",
          "2021-09-06 10:18:00",
          "2021-09-06 10:19:00",
          "2021-09-06 10:20:00",
          "2021-09-06 10:21:00",
          "2021-09-06 10:22:00",
          "2021-09-06 10:23:00",
          "2021-09-06 10:24:00",
          "2021-09-06 10:25:00",
          "2021-09-06 10:26:00",
          "2021-09-06 10:27:00",
          "2021-09-06 10:28:00",
          "2021-09-06 10:29:00",
          "2021-09-06 10:30:00",
          "2021-09-06 10:31:00",
          "2021-09-06 10:32:00",
          "2021-09-06 10:33:00",
          "2021-09-06 10:34:00",
          "2021-09-06 10:35:00",
          "2021-09-06 10:36:00",
          "2021-09-06 10:37:00",
          "2021-09-06 10:38:00",
          "2021-09-06 10:39:00",
          "2021-09-06 10:40:00",
          "2021-09-06 10:41:00",
          "2021-09-06 10:42:00",
          "2021-09-06 10:43:00",
          "2021-09-06 10:44:00",
          "2021-09-06 10:45:00",
          "2021-09-06 10:46:00",
          "2021-09-06 10:47:00",
          "2021-09-06 10:48:00",
          "2021-09-06 10:49:00",
          "2021-09-06 10:50:00",
          "2021-09-06 10:51:00",
          "2021-09-06 10:52:00",
          "2021-09-06 10:53:00",
          "2021-09-06 10:54:00",
          "2021-09-06 10:55:00",
          "2021-09-06 10:56:00",
          "2021-09-06 10:57:00",
          "2021-09-06 10:58:00",
          "2021-09-06 10:59:00",
          "2021-09-06 11:00:00",
          "2021-09-06 11:01:00",
          "2021-09-06 11:02:00",
          "2021-09-06 11:03:00",
          "2021-09-06 11:04:00",
          "2021-09-06 11:05:00"
         ],
         "y": [
          null,
          null,
          null,
          null,
          null,
          null,
          null,
          null,
          null,
          null,
          null,
          null,
          null,
          null,
          null,
          null,
          null,
          null,
          null,
          null,
          null,
          null,
          null,
          null,
          null,
          null,
          null,
          null,
          null,
          null,
          null,
          null,
          null,
          null,
          null,
          12.993361796194222,
          11.202068561440683,
          10.269644440311822,
          6.698354261556233,
          1.2279816146983649,
          -0.48394312367599923,
          -0.8227094189205673,
          1.6710224120179191,
          3.1017933943876415,
          3.7960789962744457,
          2.0659474360072636,
          3.017446843543439,
          5.468648378599028,
          6.203523844545998,
          5.146349008085963,
          1.9479143716016551,
          -5.204176830629876,
          -8.924209512239031,
          -11.137961768079549,
          -16.047721650385938,
          -18.822257018793607,
          -20.844855319766793,
          -20.644440214797214,
          -19.73694513549708,
          -18.289955286723853,
          -17.45991351444536,
          -16.10084244540485,
          -15.053839373256778,
          -12.054226583488344,
          -10.304250631001196,
          -2.000946195970755,
          4.424066535852035,
          0.27169542539922986,
          -4.779204657279479,
          -9.54971537374513,
          -14.155951633962104,
          -17.35118093145138,
          -16.572995542555873,
          -11.966983969105058,
          -9.286508401062747,
          -9.880547037217184,
          -9.566183489645482,
          -6.660131978343998,
          -5.3517631524882745,
          -3.917706598091172,
          -6.293539873295231,
          -6.654682898275496,
          -7.643331557766942,
          -8.239045237511164,
          -7.002392764414253,
          -5.3911403181555215,
          -5.7647369709739,
          -6.029682639549719,
          -6.634878044926154,
          -6.163776203684392,
          -5.191771020501619,
          -1.999142423941521,
          1.0376521141661215,
          3.1104626859887503,
          8.274138346256223,
          10.989993313334708,
          11.396647012654284,
          15.240597055264516,
          29.40283525385894,
          35.253607968486904
         ]
        },
        {
         "type": "scatter",
         "x": [
          "2021-09-06 09:26:00",
          "2021-09-06 09:27:00",
          "2021-09-06 09:28:00",
          "2021-09-06 09:29:00",
          "2021-09-06 09:30:00",
          "2021-09-06 09:31:00",
          "2021-09-06 09:32:00",
          "2021-09-06 09:33:00",
          "2021-09-06 09:34:00",
          "2021-09-06 09:35:00",
          "2021-09-06 09:36:00",
          "2021-09-06 09:37:00",
          "2021-09-06 09:38:00",
          "2021-09-06 09:39:00",
          "2021-09-06 09:40:00",
          "2021-09-06 09:41:00",
          "2021-09-06 09:42:00",
          "2021-09-06 09:43:00",
          "2021-09-06 09:44:00",
          "2021-09-06 09:45:00",
          "2021-09-06 09:46:00",
          "2021-09-06 09:47:00",
          "2021-09-06 09:48:00",
          "2021-09-06 09:49:00",
          "2021-09-06 09:50:00",
          "2021-09-06 09:51:00",
          "2021-09-06 09:52:00",
          "2021-09-06 09:53:00",
          "2021-09-06 09:54:00",
          "2021-09-06 09:55:00",
          "2021-09-06 09:56:00",
          "2021-09-06 09:57:00",
          "2021-09-06 09:58:00",
          "2021-09-06 09:59:00",
          "2021-09-06 10:00:00",
          "2021-09-06 10:01:00",
          "2021-09-06 10:02:00",
          "2021-09-06 10:03:00",
          "2021-09-06 10:04:00",
          "2021-09-06 10:05:00",
          "2021-09-06 10:06:00",
          "2021-09-06 10:07:00",
          "2021-09-06 10:08:00",
          "2021-09-06 10:09:00",
          "2021-09-06 10:10:00",
          "2021-09-06 10:11:00",
          "2021-09-06 10:12:00",
          "2021-09-06 10:13:00",
          "2021-09-06 10:14:00",
          "2021-09-06 10:15:00",
          "2021-09-06 10:16:00",
          "2021-09-06 10:17:00",
          "2021-09-06 10:18:00",
          "2021-09-06 10:19:00",
          "2021-09-06 10:20:00",
          "2021-09-06 10:21:00",
          "2021-09-06 10:22:00",
          "2021-09-06 10:23:00",
          "2021-09-06 10:24:00",
          "2021-09-06 10:25:00",
          "2021-09-06 10:26:00",
          "2021-09-06 10:27:00",
          "2021-09-06 10:28:00",
          "2021-09-06 10:29:00",
          "2021-09-06 10:30:00",
          "2021-09-06 10:31:00",
          "2021-09-06 10:32:00",
          "2021-09-06 10:33:00",
          "2021-09-06 10:34:00",
          "2021-09-06 10:35:00",
          "2021-09-06 10:36:00",
          "2021-09-06 10:37:00",
          "2021-09-06 10:38:00",
          "2021-09-06 10:39:00",
          "2021-09-06 10:40:00",
          "2021-09-06 10:41:00",
          "2021-09-06 10:42:00",
          "2021-09-06 10:43:00",
          "2021-09-06 10:44:00",
          "2021-09-06 10:45:00",
          "2021-09-06 10:46:00",
          "2021-09-06 10:47:00",
          "2021-09-06 10:48:00",
          "2021-09-06 10:49:00",
          "2021-09-06 10:50:00",
          "2021-09-06 10:51:00",
          "2021-09-06 10:52:00",
          "2021-09-06 10:53:00",
          "2021-09-06 10:54:00",
          "2021-09-06 10:55:00",
          "2021-09-06 10:56:00",
          "2021-09-06 10:57:00",
          "2021-09-06 10:58:00",
          "2021-09-06 10:59:00",
          "2021-09-06 11:00:00",
          "2021-09-06 11:01:00",
          "2021-09-06 11:02:00",
          "2021-09-06 11:03:00",
          "2021-09-06 11:04:00",
          "2021-09-06 11:05:00"
         ],
         "y": [
          null,
          null,
          null,
          null,
          null,
          null,
          null,
          null,
          null,
          null,
          null,
          null,
          null,
          null,
          null,
          null,
          null,
          null,
          null,
          null,
          null,
          null,
          null,
          null,
          null,
          null,
          null,
          null,
          null,
          null,
          null,
          null,
          null,
          null,
          null,
          27.942305137334593,
          24.59425782215581,
          21.72933514578701,
          18.723138968940855,
          15.224107498092357,
          12.082497373738686,
          9.501456015206836,
          7.935369294569052,
          6.96865411453277,
          6.334139090881105,
          5.480500759906336,
          4.987889976633757,
          5.084041657026811,
          5.307938094530648,
          5.275620277241711,
          4.6100790961137,
          2.6472279107649843,
          0.33294042616418107,
          -1.961240012684565,
          -4.778536340224839,
          -7.587280475938593,
          -10.238795444704234,
          -12.31992439872283,
          -13.80332854607768,
          -14.700653894206914,
          -15.252505818254603,
          -15.422173143684653,
          -15.348506389599077,
          -14.68965042837693,
          -13.812570468901784,
          -11.450245614315579,
          -8.275383184282056,
          -6.565967462345799,
          -6.208614901332535,
          -6.876834995815054,
          -8.332658323444464,
          -10.136362845045849,
          -11.423689384547853,
          -11.532348301459294,
          -11.083180321379984,
          -10.842653664547424,
          -10.587359629567036,
          -9.801914099322428,
          -8.911883909955597,
          -7.913048447582712,
          -7.589146732725216,
          -7.402253965835272,
          -7.450469484221606,
          -7.6081846348795175,
          -7.487026260786465,
          -7.067849072260276,
          -6.807226652003001,
          -6.651717849512345,
          -6.6483498885951064,
          -6.551435151612964,
          -6.279502325390695,
          -5.42343034510086,
          -4.131213853247464,
          -2.6828785454002206,
          -0.4914751670689319,
          1.8048185290117962,
          3.723184225740294,
          6.026666791645138,
          10.701900484087899,
          15.612241980967699
         ]
        },
        {
         "type": "bar",
         "x": [
          "2021-09-06 09:26:00",
          "2021-09-06 09:27:00",
          "2021-09-06 09:28:00",
          "2021-09-06 09:29:00",
          "2021-09-06 09:30:00",
          "2021-09-06 09:31:00",
          "2021-09-06 09:32:00",
          "2021-09-06 09:33:00",
          "2021-09-06 09:34:00",
          "2021-09-06 09:35:00",
          "2021-09-06 09:36:00",
          "2021-09-06 09:37:00",
          "2021-09-06 09:38:00",
          "2021-09-06 09:39:00",
          "2021-09-06 09:40:00",
          "2021-09-06 09:41:00",
          "2021-09-06 09:42:00",
          "2021-09-06 09:43:00",
          "2021-09-06 09:44:00",
          "2021-09-06 09:45:00",
          "2021-09-06 09:46:00",
          "2021-09-06 09:47:00",
          "2021-09-06 09:48:00",
          "2021-09-06 09:49:00",
          "2021-09-06 09:50:00",
          "2021-09-06 09:51:00",
          "2021-09-06 09:52:00",
          "2021-09-06 09:53:00",
          "2021-09-06 09:54:00",
          "2021-09-06 09:55:00",
          "2021-09-06 09:56:00",
          "2021-09-06 09:57:00",
          "2021-09-06 09:58:00",
          "2021-09-06 09:59:00",
          "2021-09-06 10:00:00",
          "2021-09-06 10:01:00",
          "2021-09-06 10:02:00",
          "2021-09-06 10:03:00",
          "2021-09-06 10:04:00",
          "2021-09-06 10:05:00",
          "2021-09-06 10:06:00",
          "2021-09-06 10:07:00",
          "2021-09-06 10:08:00",
          "2021-09-06 10:09:00",
          "2021-09-06 10:10:00",
          "2021-09-06 10:11:00",
          "2021-09-06 10:12:00",
          "2021-09-06 10:13:00",
          "2021-09-06 10:14:00",
          "2021-09-06 10:15:00",
          "2021-09-06 10:16:00",
          "2021-09-06 10:17:00",
          "2021-09-06 10:18:00",
          "2021-09-06 10:19:00",
          "2021-09-06 10:20:00",
          "2021-09-06 10:21:00",
          "2021-09-06 10:22:00",
          "2021-09-06 10:23:00",
          "2021-09-06 10:24:00",
          "2021-09-06 10:25:00",
          "2021-09-06 10:26:00",
          "2021-09-06 10:27:00",
          "2021-09-06 10:28:00",
          "2021-09-06 10:29:00",
          "2021-09-06 10:30:00",
          "2021-09-06 10:31:00",
          "2021-09-06 10:32:00",
          "2021-09-06 10:33:00",
          "2021-09-06 10:34:00",
          "2021-09-06 10:35:00",
          "2021-09-06 10:36:00",
          "2021-09-06 10:37:00",
          "2021-09-06 10:38:00",
          "2021-09-06 10:39:00",
          "2021-09-06 10:40:00",
          "2021-09-06 10:41:00",
          "2021-09-06 10:42:00",
          "2021-09-06 10:43:00",
          "2021-09-06 10:44:00",
          "2021-09-06 10:45:00",
          "2021-09-06 10:46:00",
          "2021-09-06 10:47:00",
          "2021-09-06 10:48:00",
          "2021-09-06 10:49:00",
          "2021-09-06 10:50:00",
          "2021-09-06 10:51:00",
          "2021-09-06 10:52:00",
          "2021-09-06 10:53:00",
          "2021-09-06 10:54:00",
          "2021-09-06 10:55:00",
          "2021-09-06 10:56:00",
          "2021-09-06 10:57:00",
          "2021-09-06 10:58:00",
          "2021-09-06 10:59:00",
          "2021-09-06 11:00:00",
          "2021-09-06 11:01:00",
          "2021-09-06 11:02:00",
          "2021-09-06 11:03:00",
          "2021-09-06 11:04:00",
          "2021-09-06 11:05:00"
         ],
         "y": [
          null,
          null,
          null,
          null,
          null,
          null,
          null,
          null,
          null,
          null,
          null,
          null,
          null,
          null,
          null,
          null,
          null,
          null,
          null,
          null,
          null,
          null,
          null,
          null,
          null,
          null,
          null,
          null,
          null,
          null,
          null,
          null,
          null,
          null,
          null,
          -14.948943341140371,
          -13.392189260715128,
          -11.45969070547519,
          -12.024784707384622,
          -13.996125883393992,
          -12.566440497414685,
          -10.324165434127403,
          -6.264346882551133,
          -3.8668607201451284,
          -2.538060094606659,
          -3.4145533238990726,
          -1.9704431330903178,
          0.38460672157221687,
          0.8955857500153499,
          -0.1292712691557485,
          -2.6621647245120448,
          -7.851404741394861,
          -9.257149938403213,
          -9.176721755394984,
          -11.269185310161099,
          -11.234976542855014,
          -10.60605987506256,
          -8.324515816074385,
          -5.933616589419401,
          -3.589301392516939,
          -2.2074076961907583,
          -0.6786693017201983,
          0.29466701634229864,
          2.635423844888587,
          3.508319837900588,
          9.449299418344824,
          12.69944972013409,
          6.8376628877450285,
          1.4294102440530558,
          -2.672880377930076,
          -5.82329331051764,
          -7.214818086405533,
          -5.14930615800802,
          -0.43463566764576456,
          1.7966719203172374,
          0.9621066273302397,
          1.021176139921554,
          3.14178212097843,
          3.560120757467322,
          3.99534184949154,
          1.2956068594299852,
          0.7475710675597762,
          -0.1928620735453359,
          -0.6308606026316461,
          0.4846334963722114,
          1.6767087541047543,
          1.0424896810291013,
          0.6220352099626254,
          0.013471843668952488,
          0.38765894792857125,
          1.0877313048890755,
          3.4242879211593387,
          5.168865967413585,
          5.793341231388971,
          8.765613513325155,
          9.18517478432291,
          7.673462786913991,
          9.213930263619378,
          18.700934769771038,
          19.641365987519205
         ]
        }
       ],
       "layout": {
        "autosize": true,
        "template": {
         "data": {
          "bar": [
           {
            "error_x": {
             "color": "#2a3f5f"
            },
            "error_y": {
             "color": "#2a3f5f"
            },
            "marker": {
             "line": {
              "color": "#E5ECF6",
              "width": 0.5
             },
             "pattern": {
              "fillmode": "overlay",
              "size": 10,
              "solidity": 0.2
             }
            },
            "type": "bar"
           }
          ],
          "barpolar": [
           {
            "marker": {
             "line": {
              "color": "#E5ECF6",
              "width": 0.5
             },
             "pattern": {
              "fillmode": "overlay",
              "size": 10,
              "solidity": 0.2
             }
            },
            "type": "barpolar"
           }
          ],
          "carpet": [
           {
            "aaxis": {
             "endlinecolor": "#2a3f5f",
             "gridcolor": "white",
             "linecolor": "white",
             "minorgridcolor": "white",
             "startlinecolor": "#2a3f5f"
            },
            "baxis": {
             "endlinecolor": "#2a3f5f",
             "gridcolor": "white",
             "linecolor": "white",
             "minorgridcolor": "white",
             "startlinecolor": "#2a3f5f"
            },
            "type": "carpet"
           }
          ],
          "choropleth": [
           {
            "colorbar": {
             "outlinewidth": 0,
             "ticks": ""
            },
            "type": "choropleth"
           }
          ],
          "contour": [
           {
            "colorbar": {
             "outlinewidth": 0,
             "ticks": ""
            },
            "colorscale": [
             [
              0,
              "#0d0887"
             ],
             [
              0.1111111111111111,
              "#46039f"
             ],
             [
              0.2222222222222222,
              "#7201a8"
             ],
             [
              0.3333333333333333,
              "#9c179e"
             ],
             [
              0.4444444444444444,
              "#bd3786"
             ],
             [
              0.5555555555555556,
              "#d8576b"
             ],
             [
              0.6666666666666666,
              "#ed7953"
             ],
             [
              0.7777777777777778,
              "#fb9f3a"
             ],
             [
              0.8888888888888888,
              "#fdca26"
             ],
             [
              1,
              "#f0f921"
             ]
            ],
            "type": "contour"
           }
          ],
          "contourcarpet": [
           {
            "colorbar": {
             "outlinewidth": 0,
             "ticks": ""
            },
            "type": "contourcarpet"
           }
          ],
          "heatmap": [
           {
            "colorbar": {
             "outlinewidth": 0,
             "ticks": ""
            },
            "colorscale": [
             [
              0,
              "#0d0887"
             ],
             [
              0.1111111111111111,
              "#46039f"
             ],
             [
              0.2222222222222222,
              "#7201a8"
             ],
             [
              0.3333333333333333,
              "#9c179e"
             ],
             [
              0.4444444444444444,
              "#bd3786"
             ],
             [
              0.5555555555555556,
              "#d8576b"
             ],
             [
              0.6666666666666666,
              "#ed7953"
             ],
             [
              0.7777777777777778,
              "#fb9f3a"
             ],
             [
              0.8888888888888888,
              "#fdca26"
             ],
             [
              1,
              "#f0f921"
             ]
            ],
            "type": "heatmap"
           }
          ],
          "heatmapgl": [
           {
            "colorbar": {
             "outlinewidth": 0,
             "ticks": ""
            },
            "colorscale": [
             [
              0,
              "#0d0887"
             ],
             [
              0.1111111111111111,
              "#46039f"
             ],
             [
              0.2222222222222222,
              "#7201a8"
             ],
             [
              0.3333333333333333,
              "#9c179e"
             ],
             [
              0.4444444444444444,
              "#bd3786"
             ],
             [
              0.5555555555555556,
              "#d8576b"
             ],
             [
              0.6666666666666666,
              "#ed7953"
             ],
             [
              0.7777777777777778,
              "#fb9f3a"
             ],
             [
              0.8888888888888888,
              "#fdca26"
             ],
             [
              1,
              "#f0f921"
             ]
            ],
            "type": "heatmapgl"
           }
          ],
          "histogram": [
           {
            "marker": {
             "pattern": {
              "fillmode": "overlay",
              "size": 10,
              "solidity": 0.2
             }
            },
            "type": "histogram"
           }
          ],
          "histogram2d": [
           {
            "colorbar": {
             "outlinewidth": 0,
             "ticks": ""
            },
            "colorscale": [
             [
              0,
              "#0d0887"
             ],
             [
              0.1111111111111111,
              "#46039f"
             ],
             [
              0.2222222222222222,
              "#7201a8"
             ],
             [
              0.3333333333333333,
              "#9c179e"
             ],
             [
              0.4444444444444444,
              "#bd3786"
             ],
             [
              0.5555555555555556,
              "#d8576b"
             ],
             [
              0.6666666666666666,
              "#ed7953"
             ],
             [
              0.7777777777777778,
              "#fb9f3a"
             ],
             [
              0.8888888888888888,
              "#fdca26"
             ],
             [
              1,
              "#f0f921"
             ]
            ],
            "type": "histogram2d"
           }
          ],
          "histogram2dcontour": [
           {
            "colorbar": {
             "outlinewidth": 0,
             "ticks": ""
            },
            "colorscale": [
             [
              0,
              "#0d0887"
             ],
             [
              0.1111111111111111,
              "#46039f"
             ],
             [
              0.2222222222222222,
              "#7201a8"
             ],
             [
              0.3333333333333333,
              "#9c179e"
             ],
             [
              0.4444444444444444,
              "#bd3786"
             ],
             [
              0.5555555555555556,
              "#d8576b"
             ],
             [
              0.6666666666666666,
              "#ed7953"
             ],
             [
              0.7777777777777778,
              "#fb9f3a"
             ],
             [
              0.8888888888888888,
              "#fdca26"
             ],
             [
              1,
              "#f0f921"
             ]
            ],
            "type": "histogram2dcontour"
           }
          ],
          "mesh3d": [
           {
            "colorbar": {
             "outlinewidth": 0,
             "ticks": ""
            },
            "type": "mesh3d"
           }
          ],
          "parcoords": [
           {
            "line": {
             "colorbar": {
              "outlinewidth": 0,
              "ticks": ""
             }
            },
            "type": "parcoords"
           }
          ],
          "pie": [
           {
            "automargin": true,
            "type": "pie"
           }
          ],
          "scatter": [
           {
            "marker": {
             "colorbar": {
              "outlinewidth": 0,
              "ticks": ""
             }
            },
            "type": "scatter"
           }
          ],
          "scatter3d": [
           {
            "line": {
             "colorbar": {
              "outlinewidth": 0,
              "ticks": ""
             }
            },
            "marker": {
             "colorbar": {
              "outlinewidth": 0,
              "ticks": ""
             }
            },
            "type": "scatter3d"
           }
          ],
          "scattercarpet": [
           {
            "marker": {
             "colorbar": {
              "outlinewidth": 0,
              "ticks": ""
             }
            },
            "type": "scattercarpet"
           }
          ],
          "scattergeo": [
           {
            "marker": {
             "colorbar": {
              "outlinewidth": 0,
              "ticks": ""
             }
            },
            "type": "scattergeo"
           }
          ],
          "scattergl": [
           {
            "marker": {
             "colorbar": {
              "outlinewidth": 0,
              "ticks": ""
             }
            },
            "type": "scattergl"
           }
          ],
          "scattermapbox": [
           {
            "marker": {
             "colorbar": {
              "outlinewidth": 0,
              "ticks": ""
             }
            },
            "type": "scattermapbox"
           }
          ],
          "scatterpolar": [
           {
            "marker": {
             "colorbar": {
              "outlinewidth": 0,
              "ticks": ""
             }
            },
            "type": "scatterpolar"
           }
          ],
          "scatterpolargl": [
           {
            "marker": {
             "colorbar": {
              "outlinewidth": 0,
              "ticks": ""
             }
            },
            "type": "scatterpolargl"
           }
          ],
          "scatterternary": [
           {
            "marker": {
             "colorbar": {
              "outlinewidth": 0,
              "ticks": ""
             }
            },
            "type": "scatterternary"
           }
          ],
          "surface": [
           {
            "colorbar": {
             "outlinewidth": 0,
             "ticks": ""
            },
            "colorscale": [
             [
              0,
              "#0d0887"
             ],
             [
              0.1111111111111111,
              "#46039f"
             ],
             [
              0.2222222222222222,
              "#7201a8"
             ],
             [
              0.3333333333333333,
              "#9c179e"
             ],
             [
              0.4444444444444444,
              "#bd3786"
             ],
             [
              0.5555555555555556,
              "#d8576b"
             ],
             [
              0.6666666666666666,
              "#ed7953"
             ],
             [
              0.7777777777777778,
              "#fb9f3a"
             ],
             [
              0.8888888888888888,
              "#fdca26"
             ],
             [
              1,
              "#f0f921"
             ]
            ],
            "type": "surface"
           }
          ],
          "table": [
           {
            "cells": {
             "fill": {
              "color": "#EBF0F8"
             },
             "line": {
              "color": "white"
             }
            },
            "header": {
             "fill": {
              "color": "#C8D4E3"
             },
             "line": {
              "color": "white"
             }
            },
            "type": "table"
           }
          ]
         },
         "layout": {
          "annotationdefaults": {
           "arrowcolor": "#2a3f5f",
           "arrowhead": 0,
           "arrowwidth": 1
          },
          "autotypenumbers": "strict",
          "coloraxis": {
           "colorbar": {
            "outlinewidth": 0,
            "ticks": ""
           }
          },
          "colorscale": {
           "diverging": [
            [
             0,
             "#8e0152"
            ],
            [
             0.1,
             "#c51b7d"
            ],
            [
             0.2,
             "#de77ae"
            ],
            [
             0.3,
             "#f1b6da"
            ],
            [
             0.4,
             "#fde0ef"
            ],
            [
             0.5,
             "#f7f7f7"
            ],
            [
             0.6,
             "#e6f5d0"
            ],
            [
             0.7,
             "#b8e186"
            ],
            [
             0.8,
             "#7fbc41"
            ],
            [
             0.9,
             "#4d9221"
            ],
            [
             1,
             "#276419"
            ]
           ],
           "sequential": [
            [
             0,
             "#0d0887"
            ],
            [
             0.1111111111111111,
             "#46039f"
            ],
            [
             0.2222222222222222,
             "#7201a8"
            ],
            [
             0.3333333333333333,
             "#9c179e"
            ],
            [
             0.4444444444444444,
             "#bd3786"
            ],
            [
             0.5555555555555556,
             "#d8576b"
            ],
            [
             0.6666666666666666,
             "#ed7953"
            ],
            [
             0.7777777777777778,
             "#fb9f3a"
            ],
            [
             0.8888888888888888,
             "#fdca26"
            ],
            [
             1,
             "#f0f921"
            ]
           ],
           "sequentialminus": [
            [
             0,
             "#0d0887"
            ],
            [
             0.1111111111111111,
             "#46039f"
            ],
            [
             0.2222222222222222,
             "#7201a8"
            ],
            [
             0.3333333333333333,
             "#9c179e"
            ],
            [
             0.4444444444444444,
             "#bd3786"
            ],
            [
             0.5555555555555556,
             "#d8576b"
            ],
            [
             0.6666666666666666,
             "#ed7953"
            ],
            [
             0.7777777777777778,
             "#fb9f3a"
            ],
            [
             0.8888888888888888,
             "#fdca26"
            ],
            [
             1,
             "#f0f921"
            ]
           ]
          },
          "colorway": [
           "#636efa",
           "#EF553B",
           "#00cc96",
           "#ab63fa",
           "#FFA15A",
           "#19d3f3",
           "#FF6692",
           "#B6E880",
           "#FF97FF",
           "#FECB52"
          ],
          "font": {
           "color": "#2a3f5f"
          },
          "geo": {
           "bgcolor": "white",
           "lakecolor": "white",
           "landcolor": "#E5ECF6",
           "showlakes": true,
           "showland": true,
           "subunitcolor": "white"
          },
          "hoverlabel": {
           "align": "left"
          },
          "hovermode": "closest",
          "mapbox": {
           "style": "light"
          },
          "paper_bgcolor": "white",
          "plot_bgcolor": "#E5ECF6",
          "polar": {
           "angularaxis": {
            "gridcolor": "white",
            "linecolor": "white",
            "ticks": ""
           },
           "bgcolor": "#E5ECF6",
           "radialaxis": {
            "gridcolor": "white",
            "linecolor": "white",
            "ticks": ""
           }
          },
          "scene": {
           "xaxis": {
            "backgroundcolor": "#E5ECF6",
            "gridcolor": "white",
            "gridwidth": 2,
            "linecolor": "white",
            "showbackground": true,
            "ticks": "",
            "zerolinecolor": "white"
           },
           "yaxis": {
            "backgroundcolor": "#E5ECF6",
            "gridcolor": "white",
            "gridwidth": 2,
            "linecolor": "white",
            "showbackground": true,
            "ticks": "",
            "zerolinecolor": "white"
           },
           "zaxis": {
            "backgroundcolor": "#E5ECF6",
            "gridcolor": "white",
            "gridwidth": 2,
            "linecolor": "white",
            "showbackground": true,
            "ticks": "",
            "zerolinecolor": "white"
           }
          },
          "shapedefaults": {
           "line": {
            "color": "#2a3f5f"
           }
          },
          "ternary": {
           "aaxis": {
            "gridcolor": "white",
            "linecolor": "white",
            "ticks": ""
           },
           "baxis": {
            "gridcolor": "white",
            "linecolor": "white",
            "ticks": ""
           },
           "bgcolor": "#E5ECF6",
           "caxis": {
            "gridcolor": "white",
            "linecolor": "white",
            "ticks": ""
           }
          },
          "title": {
           "x": 0.05
          },
          "xaxis": {
           "automargin": true,
           "gridcolor": "white",
           "linecolor": "white",
           "ticks": "",
           "title": {
            "standoff": 15
           },
           "zerolinecolor": "white",
           "zerolinewidth": 2
          },
          "yaxis": {
           "automargin": true,
           "gridcolor": "white",
           "linecolor": "white",
           "ticks": "",
           "title": {
            "standoff": 15
           },
           "zerolinecolor": "white",
           "zerolinewidth": 2
          }
         }
        },
        "xaxis": {
         "autorange": true,
         "range": [
          "2021-09-06 09:25:30",
          "2021-09-06 11:05:30"
         ],
         "type": "date"
        },
        "yaxis": {
         "autorange": true,
         "range": [
          -23.961436613558664,
          38.37018926227878
         ],
         "type": "linear"
        }
       }
      },
      "image/png": "[encoded data removed]",
      "text/html": [
       "<div>                            <div id=\"28126597-78d8-494d-8eae-076402f306df\" class=\"plotly-graph-div\" style=\"height:525px; width:100%;\"></div>            <script type=\"text/javascript\">                require([\"plotly\"], function(Plotly) {                    window.PLOTLYENV=window.PLOTLYENV || {};                                    if (document.getElementById(\"28126597-78d8-494d-8eae-076402f306df\")) {                    Plotly.newPlot(                        \"28126597-78d8-494d-8eae-076402f306df\",                        [{\"type\":\"scatter\",\"x\":[\"2021-09-06 09:26:00\",\"2021-09-06 09:27:00\",\"2021-09-06 09:28:00\",\"2021-09-06 09:29:00\",\"2021-09-06 09:30:00\",\"2021-09-06 09:31:00\",\"2021-09-06 09:32:00\",\"2021-09-06 09:33:00\",\"2021-09-06 09:34:00\",\"2021-09-06 09:35:00\",\"2021-09-06 09:36:00\",\"2021-09-06 09:37:00\",\"2021-09-06 09:38:00\",\"2021-09-06 09:39:00\",\"2021-09-06 09:40:00\",\"2021-09-06 09:41:00\",\"2021-09-06 09:42:00\",\"2021-09-06 09:43:00\",\"2021-09-06 09:44:00\",\"2021-09-06 09:45:00\",\"2021-09-06 09:46:00\",\"2021-09-06 09:47:00\",\"2021-09-06 09:48:00\",\"2021-09-06 09:49:00\",\"2021-09-06 09:50:00\",\"2021-09-06 09:51:00\",\"2021-09-06 09:52:00\",\"2021-09-06 09:53:00\",\"2021-09-06 09:54:00\",\"2021-09-06 09:55:00\",\"2021-09-06 09:56:00\",\"2021-09-06 09:57:00\",\"2021-09-06 09:58:00\",\"2021-09-06 09:59:00\",\"2021-09-06 10:00:00\",\"2021-09-06 10:01:00\",\"2021-09-06 10:02:00\",\"2021-09-06 10:03:00\",\"2021-09-06 10:04:00\",\"2021-09-06 10:05:00\",\"2021-09-06 10:06:00\",\"2021-09-06 10:07:00\",\"2021-09-06 10:08:00\",\"2021-09-06 10:09:00\",\"2021-09-06 10:10:00\",\"2021-09-06 10:11:00\",\"2021-09-06 10:12:00\",\"2021-09-06 10:13:00\",\"2021-09-06 10:14:00\",\"2021-09-06 10:15:00\",\"2021-09-06 10:16:00\",\"2021-09-06 10:17:00\",\"2021-09-06 10:18:00\",\"2021-09-06 10:19:00\",\"2021-09-06 10:20:00\",\"2021-09-06 10:21:00\",\"2021-09-06 10:22:00\",\"2021-09-06 10:23:00\",\"2021-09-06 10:24:00\",\"2021-09-06 10:25:00\",\"2021-09-06 10:26:00\",\"2021-09-06 10:27:00\",\"2021-09-06 10:28:00\",\"2021-09-06 10:29:00\",\"2021-09-06 10:30:00\",\"2021-09-06 10:31:00\",\"2021-09-06 10:32:00\",\"2021-09-06 10:33:00\",\"2021-09-06 10:34:00\",\"2021-09-06 10:35:00\",\"2021-09-06 10:36:00\",\"2021-09-06 10:37:00\",\"2021-09-06 10:38:00\",\"2021-09-06 10:39:00\",\"2021-09-06 10:40:00\",\"2021-09-06 10:41:00\",\"2021-09-06 10:42:00\",\"2021-09-06 10:43:00\",\"2021-09-06 10:44:00\",\"2021-09-06 10:45:00\",\"2021-09-06 10:46:00\",\"2021-09-06 10:47:00\",\"2021-09-06 10:48:00\",\"2021-09-06 10:49:00\",\"2021-09-06 10:50:00\",\"2021-09-06 10:51:00\",\"2021-09-06 10:52:00\",\"2021-09-06 10:53:00\",\"2021-09-06 10:54:00\",\"2021-09-06 10:55:00\",\"2021-09-06 10:56:00\",\"2021-09-06 10:57:00\",\"2021-09-06 10:58:00\",\"2021-09-06 10:59:00\",\"2021-09-06 11:00:00\",\"2021-09-06 11:01:00\",\"2021-09-06 11:02:00\",\"2021-09-06 11:03:00\",\"2021-09-06 11:04:00\",\"2021-09-06 11:05:00\"],\"y\":[null,null,null,null,null,null,null,null,null,null,null,null,null,null,null,null,null,null,null,null,null,null,null,null,null,null,null,null,null,null,null,null,null,null,null,12.993361796194222,11.202068561440683,10.269644440311822,6.698354261556233,1.2279816146983649,-0.48394312367599923,-0.8227094189205673,1.6710224120179191,3.1017933943876415,3.7960789962744457,2.0659474360072636,3.017446843543439,5.468648378599028,6.203523844545998,5.146349008085963,1.9479143716016551,-5.204176830629876,-8.924209512239031,-11.137961768079549,-16.047721650385938,-18.822257018793607,-20.844855319766793,-20.644440214797214,-19.73694513549708,-18.289955286723853,-17.45991351444536,-16.10084244540485,-15.053839373256778,-12.054226583488344,-10.304250631001196,-2.000946195970755,4.424066535852035,0.27169542539922986,-4.779204657279479,-9.54971537374513,-14.155951633962104,-17.35118093145138,-16.572995542555873,-11.966983969105058,-9.286508401062747,-9.880547037217184,-9.566183489645482,-6.660131978343998,-5.3517631524882745,-3.917706598091172,-6.293539873295231,-6.654682898275496,-7.643331557766942,-8.239045237511164,-7.002392764414253,-5.3911403181555215,-5.7647369709739,-6.029682639549719,-6.634878044926154,-6.163776203684392,-5.191771020501619,-1.999142423941521,1.0376521141661215,3.1104626859887503,8.274138346256223,10.989993313334708,11.396647012654284,15.240597055264516,29.40283525385894,35.253607968486904]},{\"type\":\"scatter\",\"x\":[\"2021-09-06 09:26:00\",\"2021-09-06 09:27:00\",\"2021-09-06 09:28:00\",\"2021-09-06 09:29:00\",\"2021-09-06 09:30:00\",\"2021-09-06 09:31:00\",\"2021-09-06 09:32:00\",\"2021-09-06 09:33:00\",\"2021-09-06 09:34:00\",\"2021-09-06 09:35:00\",\"2021-09-06 09:36:00\",\"2021-09-06 09:37:00\",\"2021-09-06 09:38:00\",\"2021-09-06 09:39:00\",\"2021-09-06 09:40:00\",\"2021-09-06 09:41:00\",\"2021-09-06 09:42:00\",\"2021-09-06 09:43:00\",\"2021-09-06 09:44:00\",\"2021-09-06 09:45:00\",\"2021-09-06 09:46:00\",\"2021-09-06 09:47:00\",\"2021-09-06 09:48:00\",\"2021-09-06 09:49:00\",\"2021-09-06 09:50:00\",\"2021-09-06 09:51:00\",\"2021-09-06 09:52:00\",\"2021-09-06 09:53:00\",\"2021-09-06 09:54:00\",\"2021-09-06 09:55:00\",\"2021-09-06 09:56:00\",\"2021-09-06 09:57:00\",\"2021-09-06 09:58:00\",\"2021-09-06 09:59:00\",\"2021-09-06 10:00:00\",\"2021-09-06 10:01:00\",\"2021-09-06 10:02:00\",\"2021-09-06 10:03:00\",\"2021-09-06 10:04:00\",\"2021-09-06 10:05:00\",\"2021-09-06 10:06:00\",\"2021-09-06 10:07:00\",\"2021-09-06 10:08:00\",\"2021-09-06 10:09:00\",\"2021-09-06 10:10:00\",\"2021-09-06 10:11:00\",\"2021-09-06 10:12:00\",\"2021-09-06 10:13:00\",\"2021-09-06 10:14:00\",\"2021-09-06 10:15:00\",\"2021-09-06 10:16:00\",\"2021-09-06 10:17:00\",\"2021-09-06 10:18:00\",\"2021-09-06 10:19:00\",\"2021-09-06 10:20:00\",\"2021-09-06 10:21:00\",\"2021-09-06 10:22:00\",\"2021-09-06 10:23:00\",\"2021-09-06 10:24:00\",\"2021-09-06 10:25:00\",\"2021-09-06 10:26:00\",\"2021-09-06 10:27:00\",\"2021-09-06 10:28:00\",\"2021-09-06 10:29:00\",\"2021-09-06 10:30:00\",\"2021-09-06 10:31:00\",\"2021-09-06 10:32:00\",\"2021-09-06 10:33:00\",\"2021-09-06 10:34:00\",\"2021-09-06 10:35:00\",\"2021-09-06 10:36:00\",\"2021-09-06 10:37:00\",\"2021-09-06 10:38:00\",\"2021-09-06 10:39:00\",\"2021-09-06 10:40:00\",\"2021-09-06 10:41:00\",\"2021-09-06 10:42:00\",\"2021-09-06 10:43:00\",\"2021-09-06 10:44:00\",\"2021-09-06 10:45:00\",\"2021-09-06 10:46:00\",\"2021-09-06 10:47:00\",\"2021-09-06 10:48:00\",\"2021-09-06 10:49:00\",\"2021-09-06 10:50:00\",\"2021-09-06 10:51:00\",\"2021-09-06 10:52:00\",\"2021-09-06 10:53:00\",\"2021-09-06 10:54:00\",\"2021-09-06 10:55:00\",\"2021-09-06 10:56:00\",\"2021-09-06 10:57:00\",\"2021-09-06 10:58:00\",\"2021-09-06 10:59:00\",\"2021-09-06 11:00:00\",\"2021-09-06 11:01:00\",\"2021-09-06 11:02:00\",\"2021-09-06 11:03:00\",\"2021-09-06 11:04:00\",\"2021-09-06 11:05:00\"],\"y\":[null,null,null,null,null,null,null,null,null,null,null,null,null,null,null,null,null,null,null,null,null,null,null,null,null,null,null,null,null,null,null,null,null,null,null,27.942305137334593,24.59425782215581,21.72933514578701,18.723138968940855,15.224107498092357,12.082497373738686,9.501456015206836,7.935369294569052,6.96865411453277,6.334139090881105,5.480500759906336,4.987889976633757,5.084041657026811,5.307938094530648,5.275620277241711,4.6100790961137,2.6472279107649843,0.33294042616418107,-1.961240012684565,-4.778536340224839,-7.587280475938593,-10.238795444704234,-12.31992439872283,-13.80332854607768,-14.700653894206914,-15.252505818254603,-15.422173143684653,-15.348506389599077,-14.68965042837693,-13.812570468901784,-11.450245614315579,-8.275383184282056,-6.565967462345799,-6.208614901332535,-6.876834995815054,-8.332658323444464,-10.136362845045849,-11.423689384547853,-11.532348301459294,-11.083180321379984,-10.842653664547424,-10.587359629567036,-9.801914099322428,-8.911883909955597,-7.913048447582712,-7.589146732725216,-7.402253965835272,-7.450469484221606,-7.6081846348795175,-7.487026260786465,-7.067849072260276,-6.807226652003001,-6.651717849512345,-6.6483498885951064,-6.551435151612964,-6.279502325390695,-5.42343034510086,-4.131213853247464,-2.6828785454002206,-0.4914751670689319,1.8048185290117962,3.723184225740294,6.026666791645138,10.701900484087899,15.612241980967699]},{\"type\":\"bar\",\"x\":[\"2021-09-06 09:26:00\",\"2021-09-06 09:27:00\",\"2021-09-06 09:28:00\",\"2021-09-06 09:29:00\",\"2021-09-06 09:30:00\",\"2021-09-06 09:31:00\",\"2021-09-06 09:32:00\",\"2021-09-06 09:33:00\",\"2021-09-06 09:34:00\",\"2021-09-06 09:35:00\",\"2021-09-06 09:36:00\",\"2021-09-06 09:37:00\",\"2021-09-06 09:38:00\",\"2021-09-06 09:39:00\",\"2021-09-06 09:40:00\",\"2021-09-06 09:41:00\",\"2021-09-06 09:42:00\",\"2021-09-06 09:43:00\",\"2021-09-06 09:44:00\",\"2021-09-06 09:45:00\",\"2021-09-06 09:46:00\",\"2021-09-06 09:47:00\",\"2021-09-06 09:48:00\",\"2021-09-06 09:49:00\",\"2021-09-06 09:50:00\",\"2021-09-06 09:51:00\",\"2021-09-06 09:52:00\",\"2021-09-06 09:53:00\",\"2021-09-06 09:54:00\",\"2021-09-06 09:55:00\",\"2021-09-06 09:56:00\",\"2021-09-06 09:57:00\",\"2021-09-06 09:58:00\",\"2021-09-06 09:59:00\",\"2021-09-06 10:00:00\",\"2021-09-06 10:01:00\",\"2021-09-06 10:02:00\",\"2021-09-06 10:03:00\",\"2021-09-06 10:04:00\",\"2021-09-06 10:05:00\",\"2021-09-06 10:06:00\",\"2021-09-06 10:07:00\",\"2021-09-06 10:08:00\",\"2021-09-06 10:09:00\",\"2021-09-06 10:10:00\",\"2021-09-06 10:11:00\",\"2021-09-06 10:12:00\",\"2021-09-06 10:13:00\",\"2021-09-06 10:14:00\",\"2021-09-06 10:15:00\",\"2021-09-06 10:16:00\",\"2021-09-06 10:17:00\",\"2021-09-06 10:18:00\",\"2021-09-06 10:19:00\",\"2021-09-06 10:20:00\",\"2021-09-06 10:21:00\",\"2021-09-06 10:22:00\",\"2021-09-06 10:23:00\",\"2021-09-06 10:24:00\",\"2021-09-06 10:25:00\",\"2021-09-06 10:26:00\",\"2021-09-06 10:27:00\",\"2021-09-06 10:28:00\",\"2021-09-06 10:29:00\",\"2021-09-06 10:30:00\",\"2021-09-06 10:31:00\",\"2021-09-06 10:32:00\",\"2021-09-06 10:33:00\",\"2021-09-06 10:34:00\",\"2021-09-06 10:35:00\",\"2021-09-06 10:36:00\",\"2021-09-06 10:37:00\",\"2021-09-06 10:38:00\",\"2021-09-06 10:39:00\",\"2021-09-06 10:40:00\",\"2021-09-06 10:41:00\",\"2021-09-06 10:42:00\",\"2021-09-06 10:43:00\",\"2021-09-06 10:44:00\",\"2021-09-06 10:45:00\",\"2021-09-06 10:46:00\",\"2021-09-06 10:47:00\",\"2021-09-06 10:48:00\",\"2021-09-06 10:49:00\",\"2021-09-06 10:50:00\",\"2021-09-06 10:51:00\",\"2021-09-06 10:52:00\",\"2021-09-06 10:53:00\",\"2021-09-06 10:54:00\",\"2021-09-06 10:55:00\",\"2021-09-06 10:56:00\",\"2021-09-06 10:57:00\",\"2021-09-06 10:58:00\",\"2021-09-06 10:59:00\",\"2021-09-06 11:00:00\",\"2021-09-06 11:01:00\",\"2021-09-06 11:02:00\",\"2021-09-06 11:03:00\",\"2021-09-06 11:04:00\",\"2021-09-06 11:05:00\"],\"y\":[null,null,null,null,null,null,null,null,null,null,null,null,null,null,null,null,null,null,null,null,null,null,null,null,null,null,null,null,null,null,null,null,null,null,null,-14.948943341140371,-13.392189260715128,-11.45969070547519,-12.024784707384622,-13.996125883393992,-12.566440497414685,-10.324165434127403,-6.264346882551133,-3.8668607201451284,-2.538060094606659,-3.4145533238990726,-1.9704431330903178,0.38460672157221687,0.8955857500153499,-0.1292712691557485,-2.6621647245120448,-7.851404741394861,-9.257149938403213,-9.176721755394984,-11.269185310161099,-11.234976542855014,-10.60605987506256,-8.324515816074385,-5.933616589419401,-3.589301392516939,-2.2074076961907583,-0.6786693017201983,0.29466701634229864,2.635423844888587,3.508319837900588,9.449299418344824,12.69944972013409,6.8376628877450285,1.4294102440530558,-2.672880377930076,-5.82329331051764,-7.214818086405533,-5.14930615800802,-0.43463566764576456,1.7966719203172374,0.9621066273302397,1.021176139921554,3.14178212097843,3.560120757467322,3.99534184949154,1.2956068594299852,0.7475710675597762,-0.1928620735453359,-0.6308606026316461,0.4846334963722114,1.6767087541047543,1.0424896810291013,0.6220352099626254,0.013471843668952488,0.38765894792857125,1.0877313048890755,3.4242879211593387,5.168865967413585,5.793341231388971,8.765613513325155,9.18517478432291,7.673462786913991,9.213930263619378,18.700934769771038,19.641365987519205]}],                        {\"template\":{\"data\":{\"bar\":[{\"error_x\":{\"color\":\"#2a3f5f\"},\"error_y\":{\"color\":\"#2a3f5f\"},\"marker\":{\"line\":{\"color\":\"#E5ECF6\",\"width\":0.5},\"pattern\":{\"fillmode\":\"overlay\",\"size\":10,\"solidity\":0.2}},\"type\":\"bar\"}],\"barpolar\":[{\"marker\":{\"line\":{\"color\":\"#E5ECF6\",\"width\":0.5},\"pattern\":{\"fillmode\":\"overlay\",\"size\":10,\"solidity\":0.2}},\"type\":\"barpolar\"}],\"carpet\":[{\"aaxis\":{\"endlinecolor\":\"#2a3f5f\",\"gridcolor\":\"white\",\"linecolor\":\"white\",\"minorgridcolor\":\"white\",\"startlinecolor\":\"#2a3f5f\"},\"baxis\":{\"endlinecolor\":\"#2a3f5f\",\"gridcolor\":\"white\",\"linecolor\":\"white\",\"minorgridcolor\":\"white\",\"startlinecolor\":\"#2a3f5f\"},\"type\":\"carpet\"}],\"choropleth\":[{\"colorbar\":{\"outlinewidth\":0,\"ticks\":\"\"},\"type\":\"choropleth\"}],\"contour\":[{\"colorbar\":{\"outlinewidth\":0,\"ticks\":\"\"},\"colorscale\":[[0.0,\"#0d0887\"],[0.1111111111111111,\"#46039f\"],[0.2222222222222222,\"#7201a8\"],[0.3333333333333333,\"#9c179e\"],[0.4444444444444444,\"#bd3786\"],[0.5555555555555556,\"#d8576b\"],[0.6666666666666666,\"#ed7953\"],[0.7777777777777778,\"#fb9f3a\"],[0.8888888888888888,\"#fdca26\"],[1.0,\"#f0f921\"]],\"type\":\"contour\"}],\"contourcarpet\":[{\"colorbar\":{\"outlinewidth\":0,\"ticks\":\"\"},\"type\":\"contourcarpet\"}],\"heatmap\":[{\"colorbar\":{\"outlinewidth\":0,\"ticks\":\"\"},\"colorscale\":[[0.0,\"#0d0887\"],[0.1111111111111111,\"#46039f\"],[0.2222222222222222,\"#7201a8\"],[0.3333333333333333,\"#9c179e\"],[0.4444444444444444,\"#bd3786\"],[0.5555555555555556,\"#d8576b\"],[0.6666666666666666,\"#ed7953\"],[0.7777777777777778,\"#fb9f3a\"],[0.8888888888888888,\"#fdca26\"],[1.0,\"#f0f921\"]],\"type\":\"heatmap\"}],\"heatmapgl\":[{\"colorbar\":{\"outlinewidth\":0,\"ticks\":\"\"},\"colorscale\":[[0.0,\"#0d0887\"],[0.1111111111111111,\"#46039f\"],[0.2222222222222222,\"#7201a8\"],[0.3333333333333333,\"#9c179e\"],[0.4444444444444444,\"#bd3786\"],[0.5555555555555556,\"#d8576b\"],[0.6666666666666666,\"#ed7953\"],[0.7777777777777778,\"#fb9f3a\"],[0.8888888888888888,\"#fdca26\"],[1.0,\"#f0f921\"]],\"type\":\"heatmapgl\"}],\"histogram\":[{\"marker\":{\"pattern\":{\"fillmode\":\"overlay\",\"size\":10,\"solidity\":0.2}},\"type\":\"histogram\"}],\"histogram2d\":[{\"colorbar\":{\"outlinewidth\":0,\"ticks\":\"\"},\"colorscale\":[[0.0,\"#0d0887\"],[0.1111111111111111,\"#46039f\"],[0.2222222222222222,\"#7201a8\"],[0.3333333333333333,\"#9c179e\"],[0.4444444444444444,\"#bd3786\"],[0.5555555555555556,\"#d8576b\"],[0.6666666666666666,\"#ed7953\"],[0.7777777777777778,\"#fb9f3a\"],[0.8888888888888888,\"#fdca26\"],[1.0,\"#f0f921\"]],\"type\":\"histogram2d\"}],\"histogram2dcontour\":[{\"colorbar\":{\"outlinewidth\":0,\"ticks\":\"\"},\"colorscale\":[[0.0,\"#0d0887\"],[0.1111111111111111,\"#46039f\"],[0.2222222222222222,\"#7201a8\"],[0.3333333333333333,\"#9c179e\"],[0.4444444444444444,\"#bd3786\"],[0.5555555555555556,\"#d8576b\"],[0.6666666666666666,\"#ed7953\"],[0.7777777777777778,\"#fb9f3a\"],[0.8888888888888888,\"#fdca26\"],[1.0,\"#f0f921\"]],\"type\":\"histogram2dcontour\"}],\"mesh3d\":[{\"colorbar\":{\"outlinewidth\":0,\"ticks\":\"\"},\"type\":\"mesh3d\"}],\"parcoords\":[{\"line\":{\"colorbar\":{\"outlinewidth\":0,\"ticks\":\"\"}},\"type\":\"parcoords\"}],\"pie\":[{\"automargin\":true,\"type\":\"pie\"}],\"scatter\":[{\"marker\":{\"colorbar\":{\"outlinewidth\":0,\"ticks\":\"\"}},\"type\":\"scatter\"}],\"scatter3d\":[{\"line\":{\"colorbar\":{\"outlinewidth\":0,\"ticks\":\"\"}},\"marker\":{\"colorbar\":{\"outlinewidth\":0,\"ticks\":\"\"}},\"type\":\"scatter3d\"}],\"scattercarpet\":[{\"marker\":{\"colorbar\":{\"outlinewidth\":0,\"ticks\":\"\"}},\"type\":\"scattercarpet\"}],\"scattergeo\":[{\"marker\":{\"colorbar\":{\"outlinewidth\":0,\"ticks\":\"\"}},\"type\":\"scattergeo\"}],\"scattergl\":[{\"marker\":{\"colorbar\":{\"outlinewidth\":0,\"ticks\":\"\"}},\"type\":\"scattergl\"}],\"scattermapbox\":[{\"marker\":{\"colorbar\":{\"outlinewidth\":0,\"ticks\":\"\"}},\"type\":\"scattermapbox\"}],\"scatterpolar\":[{\"marker\":{\"colorbar\":{\"outlinewidth\":0,\"ticks\":\"\"}},\"type\":\"scatterpolar\"}],\"scatterpolargl\":[{\"marker\":{\"colorbar\":{\"outlinewidth\":0,\"ticks\":\"\"}},\"type\":\"scatterpolargl\"}],\"scatterternary\":[{\"marker\":{\"colorbar\":{\"outlinewidth\":0,\"ticks\":\"\"}},\"type\":\"scatterternary\"}],\"surface\":[{\"colorbar\":{\"outlinewidth\":0,\"ticks\":\"\"},\"colorscale\":[[0.0,\"#0d0887\"],[0.1111111111111111,\"#46039f\"],[0.2222222222222222,\"#7201a8\"],[0.3333333333333333,\"#9c179e\"],[0.4444444444444444,\"#bd3786\"],[0.5555555555555556,\"#d8576b\"],[0.6666666666666666,\"#ed7953\"],[0.7777777777777778,\"#fb9f3a\"],[0.8888888888888888,\"#fdca26\"],[1.0,\"#f0f921\"]],\"type\":\"surface\"}],\"table\":[{\"cells\":{\"fill\":{\"color\":\"#EBF0F8\"},\"line\":{\"color\":\"white\"}},\"header\":{\"fill\":{\"color\":\"#C8D4E3\"},\"line\":{\"color\":\"white\"}},\"type\":\"table\"}]},\"layout\":{\"annotationdefaults\":{\"arrowcolor\":\"#2a3f5f\",\"arrowhead\":0,\"arrowwidth\":1},\"autotypenumbers\":\"strict\",\"coloraxis\":{\"colorbar\":{\"outlinewidth\":0,\"ticks\":\"\"}},\"colorscale\":{\"diverging\":[[0,\"#8e0152\"],[0.1,\"#c51b7d\"],[0.2,\"#de77ae\"],[0.3,\"#f1b6da\"],[0.4,\"#fde0ef\"],[0.5,\"#f7f7f7\"],[0.6,\"#e6f5d0\"],[0.7,\"#b8e186\"],[0.8,\"#7fbc41\"],[0.9,\"#4d9221\"],[1,\"#276419\"]],\"sequential\":[[0.0,\"#0d0887\"],[0.1111111111111111,\"#46039f\"],[0.2222222222222222,\"#7201a8\"],[0.3333333333333333,\"#9c179e\"],[0.4444444444444444,\"#bd3786\"],[0.5555555555555556,\"#d8576b\"],[0.6666666666666666,\"#ed7953\"],[0.7777777777777778,\"#fb9f3a\"],[0.8888888888888888,\"#fdca26\"],[1.0,\"#f0f921\"]],\"sequentialminus\":[[0.0,\"#0d0887\"],[0.1111111111111111,\"#46039f\"],[0.2222222222222222,\"#7201a8\"],[0.3333333333333333,\"#9c179e\"],[0.4444444444444444,\"#bd3786\"],[0.5555555555555556,\"#d8576b\"],[0.6666666666666666,\"#ed7953\"],[0.7777777777777778,\"#fb9f3a\"],[0.8888888888888888,\"#fdca26\"],[1.0,\"#f0f921\"]]},\"colorway\":[\"#636efa\",\"#EF553B\",\"#00cc96\",\"#ab63fa\",\"#FFA15A\",\"#19d3f3\",\"#FF6692\",\"#B6E880\",\"#FF97FF\",\"#FECB52\"],\"font\":{\"color\":\"#2a3f5f\"},\"geo\":{\"bgcolor\":\"white\",\"lakecolor\":\"white\",\"landcolor\":\"#E5ECF6\",\"showlakes\":true,\"showland\":true,\"subunitcolor\":\"white\"},\"hoverlabel\":{\"align\":\"left\"},\"hovermode\":\"closest\",\"mapbox\":{\"style\":\"light\"},\"paper_bgcolor\":\"white\",\"plot_bgcolor\":\"#E5ECF6\",\"polar\":{\"angularaxis\":{\"gridcolor\":\"white\",\"linecolor\":\"white\",\"ticks\":\"\"},\"bgcolor\":\"#E5ECF6\",\"radialaxis\":{\"gridcolor\":\"white\",\"linecolor\":\"white\",\"ticks\":\"\"}},\"scene\":{\"xaxis\":{\"backgroundcolor\":\"#E5ECF6\",\"gridcolor\":\"white\",\"gridwidth\":2,\"linecolor\":\"white\",\"showbackground\":true,\"ticks\":\"\",\"zerolinecolor\":\"white\"},\"yaxis\":{\"backgroundcolor\":\"#E5ECF6\",\"gridcolor\":\"white\",\"gridwidth\":2,\"linecolor\":\"white\",\"showbackground\":true,\"ticks\":\"\",\"zerolinecolor\":\"white\"},\"zaxis\":{\"backgroundcolor\":\"#E5ECF6\",\"gridcolor\":\"white\",\"gridwidth\":2,\"linecolor\":\"white\",\"showbackground\":true,\"ticks\":\"\",\"zerolinecolor\":\"white\"}},\"shapedefaults\":{\"line\":{\"color\":\"#2a3f5f\"}},\"ternary\":{\"aaxis\":{\"gridcolor\":\"white\",\"linecolor\":\"white\",\"ticks\":\"\"},\"baxis\":{\"gridcolor\":\"white\",\"linecolor\":\"white\",\"ticks\":\"\"},\"bgcolor\":\"#E5ECF6\",\"caxis\":{\"gridcolor\":\"white\",\"linecolor\":\"white\",\"ticks\":\"\"}},\"title\":{\"x\":0.05},\"xaxis\":{\"automargin\":true,\"gridcolor\":\"white\",\"linecolor\":\"white\",\"ticks\":\"\",\"title\":{\"standoff\":15},\"zerolinecolor\":\"white\",\"zerolinewidth\":2},\"yaxis\":{\"automargin\":true,\"gridcolor\":\"white\",\"linecolor\":\"white\",\"ticks\":\"\",\"title\":{\"standoff\":15},\"zerolinecolor\":\"white\",\"zerolinewidth\":2}}}},                        {\"responsive\": true}                    ).then(function(){\n",
       "                            \n",
       "var gd = document.getElementById('28126597-78d8-494d-8eae-076402f306df');\n",
       "var x = new MutationObserver(function (mutations, observer) {{\n",
       "        var display = window.getComputedStyle(gd).display;\n",
       "        if (!display || display === 'none') {{\n",
       "            console.log([gd, 'removed!']);\n",
       "            Plotly.purge(gd);\n",
       "            observer.disconnect();\n",
       "        }}\n",
       "}});\n",
       "\n",
       "// Listen for the removal of the full notebook cells\n",
       "var notebookContainer = gd.closest('#notebook-container');\n",
       "if (notebookContainer) {{\n",
       "    x.observe(notebookContainer, {childList: true});\n",
       "}}\n",
       "\n",
       "// Listen for the clearing of the current output cell\n",
       "var outputEl = gd.closest('.output');\n",
       "if (outputEl) {{\n",
       "    x.observe(outputEl, {childList: true});\n",
       "}}\n",
       "\n",
       "                        })                };                });            </script>        </div>"
      ]
     },
     "metadata": {},
     "output_type": "display_data"
    },
    {
     "name": "stdout",
     "output_type": "stream",
     "text": [
      "последнее обновление: Mon Sep  6 16:05:54 2021\n"
     ]
    }
   ],
   "source": [
    "class TradeParams:\n",
    "    INTERVALS = ['1m','3m','5m','15m','30m','1h','2h','4h','6h','8h','12h','1d','3d','1w','1M']\n",
    "    ###########################################################################################\n",
    "    \n",
    "    TIMEFRAME = '1m' # Период свечей\n",
    "    FRAMEINSEC = 60.0 # Частота обновления в секундах\n",
    "    WINDOWSIZE = 100 # Количество хранящихся свечей\n",
    "    FASTPERIOD = 8 # Период быстрой скользящей \n",
    "    SLOWPERIOD = 28 # Период медленной скользящей\n",
    "    SIGNALPERIOD = 9 # Период осцилятора\n",
    "    \n",
    "    assert WINDOWSIZE > max(FASTPERIOD,SLOWPERIOD,SIGNALPERIOD), 'увеличьте WINDOWSIZE'\n",
    "    assert TIMEFRAME in INTERVALS, 'выберите другой интервал'\n",
    "    \n",
    "def main():\n",
    "    MACDPERIODS = {'fastperiod':TradeParams.FASTPERIOD,\n",
    "                   'slowperiod':TradeParams.SLOWPERIOD,\n",
    "                   'signalperiod':TradeParams.SIGNALPERIOD}\n",
    "    \n",
    "    MacdBot = BinanceManager(time_frame = TradeParams.TIMEFRAME,\n",
    "                             frame_sec = TradeParams.FRAMEINSEC,\n",
    "                             window_size = TradeParams.WINDOWSIZE,\n",
    "                             macd_periods = MACDPERIODS)    \n",
    "    MacdBot.start()\n",
    "\n",
    "\n",
    "if __name__ == \"__main__\":\n",
    "    main()"
   ]
  },
  {
   "cell_type": "code",
   "execution_count": null,
   "id": "5fcead23-0a47-486e-810b-fe525bcae945",
   "metadata": {
    "pycharm": {
     "name": "#%%\n"
    }
   },
   "outputs": [],
   "source": []
  },
  {
   "cell_type": "code",
   "execution_count": null,
   "id": "3fa6df97-b324-4542-8f4f-fea9b8c68c35",
   "metadata": {
    "pycharm": {
     "name": "#%%\n"
    }
   },
   "outputs": [],
   "source": []
  },
  {
   "cell_type": "code",
   "execution_count": 2,
   "id": "d4167093-73b1-4705-bc5b-897c91f9f39b",
   "metadata": {
    "pycharm": {
     "name": "#%%\n"
    }
   },
   "outputs": [
    {
     "data": {
      "text/plain": [
       "18"
      ]
     },
     "execution_count": 2,
     "metadata": {},
     "output_type": "execute_result"
    }
   ],
   "source": [
    "9+9"
   ]
  },
  {
   "cell_type": "code",
   "execution_count": 3,
   "id": "69a77b5c-c50a-4c72-82fe-a8a953f5ad38",
   "metadata": {
    "pycharm": {
     "name": "#%%\n"
    }
   },
   "outputs": [],
   "source": [
    "def funct(x):\n",
    "    return x+10\n"
   ]
  },
  {
   "cell_type": "code",
   "execution_count": 4,
   "id": "1429bff1-d339-4fbe-a501-92dd486b8060",
   "metadata": {
    "pycharm": {
     "name": "#%%\n"
    }
   },
   "outputs": [
    {
     "data": {
      "text/plain": [
       "20"
      ]
     },
     "execution_count": 4,
     "metadata": {},
     "output_type": "execute_result"
    }
   ],
   "source": [
    "funct(10)"
   ]
  },
  {
   "cell_type": "code",
   "execution_count": null,
   "id": "378f40aa-056d-479e-9a77-dee420b3518d",
   "metadata": {
    "pycharm": {
     "name": "#%%\n"
    }
   },
   "outputs": [],
   "source": []
  },
  {
   "cell_type": "code",
   "execution_count": null,
   "id": "85dcb95b-9180-4f0d-bc07-f5d213c9b00e",
   "metadata": {
    "pycharm": {
     "name": "#%%\n"
    }
   },
   "outputs": [],
   "source": [
    "import talib\n",
    "import threading\n",
    "from binance.client import Client\n",
    "from binance import ThreadedWebsocketManager\n",
    "from binance.enums import *\n",
    "import pandas as pd\n",
    "import time\n",
    "import numpy as np\n",
    "from enum import Enum\n",
    "from datetime import datetime\n",
    "import plotly.graph_objects as go\n",
    "from IPython.display import clear_output\n",
    "\n",
    "\n",
    "######################\n",
    "\n",
    "class OrderTypes(Enum):\n",
    "    market = 'MARKET'\n",
    "    profit = 'TAKE_PROFIT'\n",
    "    loss  = 'STOP_LOSS'\n",
    "########################\n",
    "\n",
    "class BinanceData:\n",
    "    trade_assets = ['BTCUSDT', 'ETHUSDT', 'LTCUSDT']\n",
    "    fig_main = go.Figure()\n",
    "    fig_macd = go.Figure()\n",
    "\n",
    "    \n",
    "    def __init__(self, api_key, secret_key, **kwargs):\n",
    "        '''\n",
    "        Класс взаимодействия с биржей через rest\n",
    "        ########################################\n",
    "        \n",
    "        Возможные валютные пары для торговли:\n",
    "        \n",
    "        ['BTCUSDT','ETHUSDT','BNBUSDT','NEOUSDT','LTCUSDT','QTUMUSDT','ADAUSDT','XRPUSDT','EOSUSDT','IOTAUSDT','XLMUSDT','ONTUSDT',\n",
    "        'TRXUSDT','ETCUSDT','VETUSDT','LINKUSDT','WAVESUSDT','BTTUSDT','ZILUSDT','ZRXUSDT','BATUSDT','XMRUSDT','ZECUSDT','IOSTUSDT',\n",
    "        'CELRUSDT','DASHUSDT','OMGUSDT','THETAUSDT','ENJUSDT','MATICUSDT','ATOMUSDT','ONEUSDT','FTMUSDT','ALGOUSDT','DOGEUSDT','ANKRUSDT',\n",
    "        'TOMOUSDT','CHZUSDT','BANDUSDT','XTZUSDT','RENUSDT','RVNUSDT','HBARUSDT','NKNUSDT','KAVAUSDT','RLCUSDT','BCHUSDT','OGNUSDT','BTSUSDT',\n",
    "        'COTIUSDT','SOLUSDT','CHRUSDT','STMXUSDT','KNCUSDT','LRCUSDT','COMPUSDT','SCUSDT','SNXUSDT','DGBUSDT','SXPUSDT','MKRUSDT','STORJUSDT',\n",
    "        'MANAUSDT','YFIUSDT','BALUSDT','SRMUSDT','CRVUSDT','SANDUSDT','OCEANUSDT','DOTUSDT','RSRUSDT','TRBUSDT','BZRXUSDT','SUSHIUSDT','YFIIUSDT',\n",
    "        'KSMUSDT','EGLDUSDT', 'RUNEUSDT', 'UNIUSDT', 'AVAXUSDT', 'ALPHAUSDT', 'AAVEUSDT', 'NEARUSDT', 'FILUSDT', 'AKROUSDT', 'XEMUSDT', 'SKLUSDT',\n",
    "        'GRTUSDT', '1INCHUSDT', 'REEFUSDT', 'LITUSDT', 'DODOUSDT', 'LINAUSDT']\n",
    "        '''\n",
    "        self.__dict__.update(kwargs)\n",
    "    \n",
    "        self.binance_client = Client(api_key, secret_key)\n",
    "        self.df = self.get_candles()\n",
    "        \n",
    "    def time_convert(self,unix):\n",
    "        ts = int(unix)\n",
    "        ts /= 1000\n",
    "        return datetime.utcfromtimestamp(ts).strftime('%Y-%m-%d %H:%M:%S')\n",
    "\n",
    "    def get_candles(self):\n",
    "        '''\n",
    "        Запрашивает свечи перед началом работы,\n",
    "        для рассчета индикаторов\n",
    "        \n",
    "        '''\n",
    "        \n",
    "        data = []        \n",
    "        try:\n",
    "\n",
    "            for asset in self.trade_assets:\n",
    "                candles = self.binance_client.get_klines(symbol=asset,\n",
    "                                                         interval=self.time_frame)\n",
    "                close_ = list()\n",
    "                date = list()\n",
    "                \n",
    "                for candle in candles:\n",
    "                    close_.append(candle[4])\n",
    "                    date_time = self.time_convert(candle[0])\n",
    "                    date.append(date_time)\n",
    "                    \n",
    "                data.append(close_[-self.window_size:])\n",
    "                \n",
    "            data = list(zip(*data))\n",
    "\n",
    "            df = pd.DataFrame(data,columns=self.trade_assets)\n",
    "            df['date'] = date[-self.window_size:]\n",
    "            \n",
    "            return df\n",
    "        \n",
    "        except Exception as e:\n",
    "            print('Ограничение биржи на количество запросов, попробуйте позже')\n",
    "            \n",
    "    def make_order(self,symbol,sid,quantity=None):\n",
    "        '''\n",
    "        Открывает сделки, включая стоп-лосс и тейк-профит\n",
    "        \n",
    "        '''\n",
    "        \n",
    "        kwargs = {'quantity':quantity, 'symbol':symbol, 'side':side}\n",
    "        try :                \n",
    "                self.binance_client.futures_create_order(**kwargs,\n",
    "                                                         type=OrderTypes.market)\n",
    "                \n",
    "                self.binance_client.futures_create_order(**kwargs,\n",
    "                                                         type=OrderTypes.profit)\n",
    "                self.binance_client.futures_create_order(**kwargs,\n",
    "                                                         type=OrderTypes.loss)\n",
    "                    \n",
    "        except Exception as e:\n",
    "            print('ошибка создания ордера:', e.__str__())\n",
    "##############################################################################\n",
    "class BinanceManager(BinanceData,threading.Thread):\n",
    "    lock = threading.Lock()\n",
    "    \n",
    "    def __init__(self,api_key = None ,secret_key = None,**kwargs):\n",
    "        '''\n",
    "        Основной класс, подключение к сокетам\n",
    "        \n",
    "        '''\n",
    "        threading.Thread.__init__(self)     \n",
    "        BinanceData.__init__(self, api_key, secret_key, **kwargs)\n",
    "        \n",
    "        streams = list()\n",
    "\n",
    "        for asset in self.trade_assets:\n",
    "            s = asset.lower()\n",
    "            stream = f'{s}@kline_'+self.time_frame\n",
    "            streams.append(stream)\n",
    "        \n",
    "        \n",
    "        binance_websocket = ThreadedWebsocketManager(api_key=api_key,\n",
    "                                                     api_secret=secret_key)\n",
    "        binance_websocket.start()\n",
    "        \n",
    "        binance_websocket.start_multiplex_socket(callback=self.call_back, \n",
    "                                                 streams=streams)\n",
    "    def show_plot(self,symbol,*args):\n",
    "        self.fig_main.data = []\n",
    "        self.fig_macd.data = []\n",
    "\n",
    "        clear_output(wait=True)\n",
    "\n",
    "        print(self.df)\n",
    "\n",
    "                \n",
    "        arr = np.array(self.df[symbol])\n",
    "        self.fig_main.add_trace(go.Scatter(x=self.df['date'], y=arr.astype(float)))\n",
    "        self.fig_main.show()\n",
    "        \n",
    "        macd, signal, hist = args\n",
    "        self.fig_macd.add_trace(go.Scatter(x=self.df['date'], y=macd.astype(float)))\n",
    "        self.fig_macd.add_trace(go.Scatter(x=self.df['date'], y=signal.astype(float)))\n",
    "        self.fig_macd.add_trace(go.Bar(x=self.df['date'], y=hist.astype(float)))\n",
    "        self.fig_macd.show()\n",
    "\n",
    "        \n",
    "        print(arr,macd,signal)\n",
    "        \n",
    "\n",
    "\n",
    "        \n",
    "    def call_back(self,message, candle=dict()):\n",
    "        '''\n",
    "        Прием свечей с сокета\n",
    "        \n",
    "        '''\n",
    "        data  = message['data']\n",
    "        symbol = data['s']\n",
    "        kline = data['k']\n",
    "        is_close, close_= kline['x'], kline['c']\n",
    "        timestamp = kline['t']\n",
    "                \n",
    "        if len(candle) == len(self.trade_assets):\n",
    "            self.lock.acquire()\n",
    "            \n",
    "            try:\n",
    "                candle['date'] = self.time_convert(timestamp)\n",
    "                self.df = self.df.append(candle, ignore_index = True)\n",
    "                candle.clear() \n",
    "                \n",
    "            finally:\n",
    "                self.lock.release()\n",
    "\n",
    "        if is_close:\n",
    "            candle[symbol] = close_\n",
    "                       \n",
    "    def run(self):\n",
    "        '''\n",
    "        Логика и открытие сделок\n",
    "        \n",
    "        '''\n",
    "        session_params = {'debug': True, 'alive': False,'ticker': None,\n",
    "                          'quantity': None,'side': None}\n",
    "        \n",
    "        time.sleep(0.1)\n",
    "        \n",
    "        while True:\n",
    "            self.lock.acquire()\n",
    "            \n",
    "            try:\n",
    "                self.df = self.df.tail(self.window_size)\n",
    "                self.df = self.df.reset_index(drop = True)\n",
    "                \n",
    "                \n",
    "                if session_params['debug']:\n",
    "                    main_symbol = 'BTCUSDT'\n",
    "                    \n",
    "                    arr = np.array(self.df[main_symbol])\n",
    "                    args = talib.MACD(arr.astype(float),**self.macd_periods)\n",
    "                    self.show_plot(main_symbol,*args)\n",
    "                    \n",
    "                else:\n",
    "                    \n",
    "                    for col in self.df:\n",
    "                        arr = np.array(self.df[col])\n",
    "                        macd, signal, hist = talib.MACD(arr.astype(float),\n",
    "                                                        **self.macd_periods)\n",
    "\n",
    "                        if session_params['alive']:\n",
    "                            \n",
    "                            self.binance_client.futures_cancel_all_open_orders()\n",
    "                            session_params['alive'] = False\n",
    "                            \n",
    "                        else:\n",
    "\n",
    "                            if hist[-2] > 0 and hist[-1] < 0:\n",
    "                                print('sell',col)\n",
    "                                \n",
    "                                self.make_order(col,'SELL')\n",
    "                                session_params['alive'] = True\n",
    "\n",
    "                            elif hist[-2] < 0 and hist[-1] > 0:\n",
    "                                print('buy',col)\n",
    "                                \n",
    "                                self.make_order(col,'BUY')\n",
    "                                session_params['alive'] = True\n",
    "                            \n",
    "            finally:\n",
    "                self.lock.release()\n",
    "                time.sleep(0.1)\n",
    "                \n",
    "            time.sleep(self.frame_sec)\n",
    "            \n",
    "#################################################################\n",
    "class TradeParams:\n",
    "    INTERVALS = ['1m','3m','5m','15m','30m','1h','2h','4h','6h','8h','12h','1d','3d','1w','1M']\n",
    "    ###########################################################################################\n",
    "    \n",
    "    TIMEFRAME = '1m' # Период свечей\n",
    "    FRAMEINSEC = 60.0 # Частота обновления в секундах\n",
    "    WINDOWSIZE = 100 # Количество хранящихся свечей\n",
    "    FASTPERIOD = 8 # Период быстрой скользящей \n",
    "    SLOWPERIOD = 28 # Период медленной скользящей\n",
    "    SIGNALPERIOD = 9 # Период осцилятора\n",
    "    \n",
    "    assert WINDOWSIZE > max(FASTPERIOD,SLOWPERIOD,SIGNALPERIOD), 'увеличьте WINDOWSIZE'\n",
    "    assert TIMEFRAME in INTERVALS, 'выберите другой интервал'\n",
    "    \n",
    "def main():\n",
    "    MACDPERIODS = {'fastperiod':TradeParams.FASTPERIOD,\n",
    "                   'slowperiod':TradeParams.SLOWPERIOD,\n",
    "                   'signalperiod':TradeParams.SIGNALPERIOD}\n",
    "    \n",
    "    MacdBot = BinanceManager(time_frame = TradeParams.TIMEFRAME,\n",
    "                             frame_sec = TradeParams.FRAMEINSEC,\n",
    "                             window_size = TradeParams.WINDOWSIZE,\n",
    "                             macd_periods = MACDPERIODS)    \n",
    "    MacdBot.start()\n",
    "\n",
    "\n",
    "if __name__ == \"__main__\":\n",
    "    main()"
   ]
  },
  {
   "cell_type": "code",
   "execution_count": null,
   "id": "0732e9d6-10d0-45fa-8a03-192b89fae3cb",
   "metadata": {
    "pycharm": {
     "name": "#%%\n"
    }
   },
   "outputs": [],
   "source": []
  },
  {
   "cell_type": "code",
   "execution_count": null,
   "id": "6fd4cfab-b89a-4454-a31d-f5b5aa70846c",
   "metadata": {
    "pycharm": {
     "name": "#%%\n"
    }
   },
   "outputs": [],
   "source": []
  },
  {
   "cell_type": "code",
   "execution_count": null,
   "id": "bbe341e4-d859-4b4c-85d8-c8e65d6d31f0",
   "metadata": {
    "pycharm": {
     "name": "#%%\n"
    }
   },
   "outputs": [],
   "source": []
  },
  {
   "cell_type": "code",
   "execution_count": null,
   "id": "98a2c218-b1ca-45e9-82b4-53f71713d859",
   "metadata": {
    "pycharm": {
     "name": "#%%\n"
    }
   },
   "outputs": [],
   "source": []
  },
  {
   "cell_type": "code",
   "execution_count": null,
   "id": "edb2b00e-db1e-4383-b0cc-db19c0f09898",
   "metadata": {
    "pycharm": {
     "name": "#%%\n"
    }
   },
   "outputs": [],
   "source": []
  },
  {
   "cell_type": "code",
   "execution_count": 1,
   "id": "9336b76b-906b-495d-bded-7271e088016a",
   "metadata": {
    "pycharm": {
     "name": "#%%\n"
    }
   },
   "outputs": [
    {
     "name": "stderr",
     "output_type": "stream",
     "text": [
      "C:\\Users\\sinne\\AppData\\Local\\Temp/ipykernel_15228/1073930505.py:17: MatplotlibDeprecationWarning: \n",
      "The set_window_title function was deprecated in Matplotlib 3.4 and will be removed two minor releases later. Use manager.set_window_title or GUI-specific methods instead.\n",
      "  fig.canvas.set_window_title(title)\n"
     ]
    },
    {
     "name": "stdout",
     "output_type": "stream",
     "text": [
      "Please wait a few seconds until enough data has been received!\n"
     ]
    },
    {
     "data": {
      "image/png": "[encoded data removed]",
      "text/plain": [
       "<Figure size 432x288 with 1 Axes>"
      ]
     },
     "metadata": {
      "needs_background": "light"
     },
     "output_type": "display_data"
    }
   ],
   "source": [
    "import unicorn_binance_websocket_api.unicorn_binance_websocket_api_manager as ubwam\n",
    "import datetime as dt\n",
    "try:\n",
    "    import matplotlib.pyplot as plt\n",
    "    import matplotlib.animation as animation\n",
    "except ImportError:\n",
    "    print(\"Please install `matplotlib`! https://pypi.org/project/matplotlib\")\n",
    "    exit(1)\n",
    "\n",
    "binance_websocket_api_manager = ubwam.BinanceWebSocketApiManager()\n",
    "binance_websocket_api_manager.create_stream(\"trade\", \"btcusdt\", output=\"UnicornFy\")\n",
    "\n",
    "xs = []\n",
    "ys = []\n",
    "title = \"Live BTC Price @ Binance.com\"\n",
    "fig = plt.figure()\n",
    "fig.manager.set_window_title(title)\n",
    "ax = fig.add_subplot(1, 1, 1)\n",
    "\n",
    "print(\"Please wait a few seconds until enough data has been received!\")\n",
    "\n",
    "\n",
    "def animate(i, xs, ys):\n",
    "    data = binance_websocket_api_manager.pop_stream_data_from_stream_buffer()\n",
    "    try:\n",
    "        if data['stream_type']:\n",
    "            xs.append(dt.datetime.fromtimestamp(data['trade_time'] / 1000))\n",
    "            ys.append(float(data['price']))\n",
    "            ax.clear()\n",
    "            ax.plot(xs, ys)\n",
    "            plt.xticks(rotation=45, ha='right')\n",
    "            plt.subplots_adjust(bottom=0.30)\n",
    "            plt.title(title)\n",
    "            plt.ylabel('USDT Value')\n",
    "    except KeyError:\n",
    "        pass\n",
    "    except TypeError:\n",
    "        pass\n",
    "\n",
    "\n",
    "ani = animation.FuncAnimation(fig, animate, fargs=(xs, ys), interval=5)\n",
    "plt.show()"
   ]
  },
  {
   "cell_type": "code",
   "execution_count": null,
   "id": "f2661f8d-8493-4f6d-9c34-c151b56b916f",
   "metadata": {
    "pycharm": {
     "name": "#%%\n"
    }
   },
   "outputs": [],
   "source": []
  }
 ],
 "metadata": {
  "kernelspec": {
   "display_name": "Python 3 (ipykernel)",
   "language": "python",
   "name": "python3"
  },
  "language_info": {
   "codemirror_mode": {
    "name": "ipython",
    "version": 3
   },
   "file_extension": ".py",
   "mimetype": "text/x-python",
   "name": "python",
   "nbconvert_exporter": "python",
   "pygments_lexer": "ipython3",
   "version": "3.8.0"
  }
 },
 "nbformat": 4,
 "nbformat_minor": 5
}